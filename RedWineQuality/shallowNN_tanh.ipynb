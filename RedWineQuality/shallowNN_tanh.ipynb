{
 "cells": [
  {
   "cell_type": "markdown",
   "metadata": {},
   "source": [
    "# Creating a Shallow Neural Network"
   ]
  },
  {
   "cell_type": "markdown",
   "metadata": {},
   "source": [
    "Creating a neural network model with 1 hidden layer. The used acitvation function is *tanh* in hidden layer and *sigmoid* in output layer."
   ]
  },
  {
   "cell_type": "markdown",
   "metadata": {},
   "source": [
    "[**1. Initialization**](#1.-Initialization)\n",
    "\n",
    "[**2. Model Building**](#2.-Model-Building)\n",
    "\n",
    "[**3. Hyperparameter Tunning**](#3.-Hyperparameter-Tunning)\n",
    "\n",
    "[**4. Predicting and Evaluation**](#4.-Predicting-and-Evaluation)\n"
   ]
  },
  {
   "cell_type": "markdown",
   "metadata": {},
   "source": [
    "## 1. Initialization"
   ]
  },
  {
   "cell_type": "markdown",
   "metadata": {},
   "source": [
    "### 1.1. Package imports"
   ]
  },
  {
   "cell_type": "code",
   "execution_count": 1,
   "metadata": {},
   "outputs": [],
   "source": [
    "import numpy as np\n",
    "import pandas as pd\n",
    "from sklearn.model_selection import train_test_split\n",
    "import matplotlib.pyplot as plt\n",
    "from sklearn.linear_model import LinearRegression\n",
    "\n",
    "%matplotlib inline"
   ]
  },
  {
   "cell_type": "markdown",
   "metadata": {},
   "source": [
    "### 1.2. Loading Data"
   ]
  },
  {
   "cell_type": "markdown",
   "metadata": {},
   "source": [
    "**m**: total number of samples  \n",
    "**n_x**: number of features  \n",
    "**n_y**: number of output classes  \n",
    "**X**: input data  \n",
    "**Y**: labels  \n",
    "**newY**: labels extracted into rows of different classes as bool"
   ]
  },
  {
   "cell_type": "code",
   "execution_count": 2,
   "metadata": {},
   "outputs": [
    {
     "name": "stdout",
     "output_type": "stream",
     "text": [
      "The shape of X is: (11, 1599)\n",
      "The shape of Y is: (1, 1599)\n",
      "The shape of newY is: (6, 1599)\n",
      "Total number of examples: 1599\n"
     ]
    }
   ],
   "source": [
    "data = pd.read_csv(\"winequality-red.csv\")\n",
    "\n",
    "shape_data = data.shape\n",
    "m = shape_data[0]\n",
    "n_x = shape_data[1]-1\n",
    "n_y = 6\n",
    "\n",
    "X = np.reshape(np.array(data.iloc[:,:n_x]),(m,n_x))\n",
    "X = X.T\n",
    "Y = np.reshape(np.array(data.iloc[:,n_x]),(m,1))\n",
    "Y = Y.T\n",
    "\n",
    "newY = np.empty((0,m), int)\n",
    "for i in range(3,9):\n",
    "    newY = np.append(newY,(Y==i).astype(int),axis=0)\n",
    "\n",
    "shape_X = np.shape(X)\n",
    "shape_Y = np.shape(Y)\n",
    "shape_newY = np.shape(newY)\n",
    "\n",
    "\n",
    "print ('The shape of X is: ' + str(shape_X))\n",
    "print ('The shape of Y is: ' + str(shape_Y))\n",
    "print ('The shape of newY is: ' + str(shape_newY))\n",
    "print ('Total number of examples: %d' % (m))"
   ]
  },
  {
   "cell_type": "markdown",
   "metadata": {},
   "source": [
    "### 1.3. Deviding Data into Train, Cross Validation and Test sets"
   ]
  },
  {
   "cell_type": "markdown",
   "metadata": {},
   "source": [
    "**train**: training set (60%)  \n",
    "**cv**: cross validation set (20%)  \n",
    "**test**: test set (20%)  "
   ]
  },
  {
   "cell_type": "code",
   "execution_count": 3,
   "metadata": {},
   "outputs": [],
   "source": [
    "X_train , X_test , Y_train , Y_test = train_test_split(X.T, newY.T, train_size = 0.8)\n",
    "X_train , X_cv , Y_train , Y_cv = train_test_split(X_train, Y_train, train_size = 0.75)\n",
    "X_train = X_train.T\n",
    "X_cv = X_cv.T\n",
    "X_test = X_test.T\n",
    "Y_train = Y_train.T\n",
    "Y_cv = Y_cv.T\n",
    "Y_test = Y_test.T"
   ]
  },
  {
   "cell_type": "markdown",
   "metadata": {},
   "source": [
    "## 2. Model Building"
   ]
  },
  {
   "cell_type": "markdown",
   "metadata": {},
   "source": [
    "### 2.1. Normalizing the data"
   ]
  },
  {
   "cell_type": "code",
   "execution_count": 4,
   "metadata": {},
   "outputs": [],
   "source": [
    "def normalize(X):\n",
    "    \n",
    "    mean = np.mean(X,axis=1)\n",
    "    mean = np.reshape(mean,(np.shape(mean)[0],1))\n",
    "    std = np.std(X,axis=1)\n",
    "    std = np.reshape(std,(np.shape(std)[0],1))\n",
    "    \n",
    "    X_norm = (X-mean)/std\n",
    "    \n",
    "    return X_norm"
   ]
  },
  {
   "cell_type": "markdown",
   "metadata": {},
   "source": [
    "### 2.2. Defining neural network structure"
   ]
  },
  {
   "cell_type": "markdown",
   "metadata": {},
   "source": [
    "**n_x**: the size of the input layer (this is number of features)  \n",
    "**n_h**: the size of the hidden layer (this is initially set to 8, but will be tunned in next section)  \n",
    "**n_y**: the size of the output layer (based on the data, Y has 6 unique values from 3 to 8 inclusive)"
   ]
  },
  {
   "cell_type": "code",
   "execution_count": 5,
   "metadata": {},
   "outputs": [
    {
     "name": "stdout",
     "output_type": "stream",
     "text": [
      "n_x = 11 \n",
      "n_h = 8 \n",
      "n_y = 6\n"
     ]
    }
   ],
   "source": [
    "n_x\n",
    "n_h = 8\n",
    "n_y\n",
    "\n",
    "print(\"n_x = %d \\nn_h = %d \\nn_y = %d\" %(n_x,n_h,n_y))"
   ]
  },
  {
   "cell_type": "markdown",
   "metadata": {},
   "source": [
    "### 2.3. Initializing the model's parameters"
   ]
  },
  {
   "cell_type": "markdown",
   "metadata": {},
   "source": [
    "**parameters**: python dictionary containing:  \n",
    "*W1*: weight matrix of shape (n_h, n_x)  \n",
    "*b1*: bias vector of shape (n_h, 1)  \n",
    "*W2*: weight matrix of shape (n_y, n_h)  \n",
    "*b2*: bias vector of shape (n_y, 1)"
   ]
  },
  {
   "cell_type": "code",
   "execution_count": 6,
   "metadata": {},
   "outputs": [],
   "source": [
    "def initialize_parameters(n_x, n_h, n_y, scaling_factor):\n",
    "    \n",
    "    W1 = np.random.randn(n_h,n_x)*scaling_factor\n",
    "    b1 = np.zeros((n_h,1))\n",
    "    W2 = np.random.randn(n_y,n_h)*scaling_factor\n",
    "    b2 = np.zeros((n_y,1))\n",
    "    \n",
    "    assert (W1.shape == (n_h, n_x))\n",
    "    assert (b1.shape == (n_h, 1))\n",
    "    assert (W2.shape == (n_y, n_h))\n",
    "    assert (b2.shape == (n_y, 1))\n",
    "    \n",
    "    parameters = {\"W1\": W1,\n",
    "                  \"b1\": b1,\n",
    "                  \"W2\": W2,\n",
    "                  \"b2\": b2}\n",
    "    \n",
    "    return parameters"
   ]
  },
  {
   "cell_type": "markdown",
   "metadata": {},
   "source": [
    "### 2.4. Defining Sigmoid function"
   ]
  },
  {
   "cell_type": "code",
   "execution_count": 7,
   "metadata": {},
   "outputs": [],
   "source": [
    "def sigmoid(z):\n",
    "    \n",
    "    s = 1/(1+np.exp(-z))\n",
    "        \n",
    "    return s"
   ]
  },
  {
   "cell_type": "markdown",
   "metadata": {},
   "source": [
    "### 2.5. Implementing forward propagation"
   ]
  },
  {
   "cell_type": "markdown",
   "metadata": {},
   "source": [
    "**Z1**: W1\\*X+b1  \n",
    "**A1**: The tanh output of the first layer activation  \n",
    "**Z2**: W2\\*A1+b2  \n",
    "**A2**: The sigmoid output of the second layer activation  \n",
    "**tmp**: a dictionary containing \"Z1\", \"A1\", \"Z2\" and \"A2\""
   ]
  },
  {
   "cell_type": "code",
   "execution_count": 8,
   "metadata": {},
   "outputs": [],
   "source": [
    "def forward_propagation(X, parameters):\n",
    "    \n",
    "    W1 = parameters[\"W1\"]\n",
    "    b1 = parameters[\"b1\"]\n",
    "    W2 = parameters[\"W2\"]\n",
    "    b2 = parameters[\"b2\"]\n",
    "   \n",
    "    Z1 = np.dot(W1,X)+b1\n",
    "    A1 = np.tanh(Z1)\n",
    "    Z2 = np.dot(W2,A1)+b2\n",
    "    A2 = sigmoid(Z2)\n",
    "        \n",
    "    assert(A2.shape == (n_y, X.shape[1]))\n",
    "    \n",
    "    tmp = {\"Z1\": Z1,\n",
    "           \"A1\": A1,\n",
    "           \"Z2\": Z2,\n",
    "           \"A2\": A2}\n",
    "    \n",
    "    return A2, tmp"
   ]
  },
  {
   "cell_type": "markdown",
   "metadata": {},
   "source": [
    "### 2.6. Computing Cost"
   ]
  },
  {
   "cell_type": "markdown",
   "metadata": {},
   "source": [
    "**cost**: cross-entropy cost"
   ]
  },
  {
   "cell_type": "code",
   "execution_count": 9,
   "metadata": {},
   "outputs": [],
   "source": [
    "def compute_cost(A2, Y):\n",
    "    \n",
    "    m = Y.shape[1]\n",
    "\n",
    "    cost = (-1/m)*np.sum(Y*np.log(A2)+(1-Y)*np.log(1-A2))\n",
    "    cost = float(np.squeeze(cost))  # making sure cost is the dimension I expect!\n",
    "                                    \n",
    "    assert(isinstance(cost, float))\n",
    "    \n",
    "    return cost"
   ]
  },
  {
   "cell_type": "markdown",
   "metadata": {},
   "source": [
    "### 2.7. Implementing backward propagation"
   ]
  },
  {
   "cell_type": "markdown",
   "metadata": {},
   "source": [
    "**grads**: python dictionary containing gradients with respect to different parameters"
   ]
  },
  {
   "cell_type": "code",
   "execution_count": 10,
   "metadata": {},
   "outputs": [],
   "source": [
    "def backward_propagation(parameters, tmp, X, Y):\n",
    "\n",
    "    m = X.shape[1]\n",
    "    \n",
    "    W1 = parameters[\"W1\"]\n",
    "    W2 = parameters[\"W2\"]\n",
    "   \n",
    "    A1 = tmp[\"A1\"]\n",
    "    A2 = tmp[\"A2\"]\n",
    "\n",
    "    dZ2 = A2-Y\n",
    "    dW2 = (1/m)*np.dot(dZ2,A1.T)\n",
    "    db2 = (1/m)*np.sum(dZ2,axis=1,keepdims=True)\n",
    "    dZ1 = np.dot(W2.T,dZ2)*(1-np.power(A1,2))\n",
    "    dW1 = (1/m)*np.dot(dZ1,X.T)\n",
    "    db1 = (1/m)*np.sum(dZ1,axis=1,keepdims=True)\n",
    "    \n",
    "    grads = {\"dW1\": dW1,\n",
    "             \"db1\": db1,\n",
    "             \"dW2\": dW2,\n",
    "             \"db2\": db2}\n",
    "    \n",
    "    return grads"
   ]
  },
  {
   "cell_type": "markdown",
   "metadata": {},
   "source": [
    "### 2.8. Parameters update"
   ]
  },
  {
   "cell_type": "code",
   "execution_count": 11,
   "metadata": {},
   "outputs": [],
   "source": [
    "def update_parameters(parameters, grads, learning_rate):\n",
    "\n",
    "    W1 = parameters[\"W1\"]\n",
    "    b1 = parameters[\"b1\"]\n",
    "    W2 = parameters[\"W2\"]\n",
    "    b2 = parameters[\"b2\"]\n",
    "\n",
    "    dW1 = grads[\"dW1\"]\n",
    "    db1 = grads[\"db1\"]\n",
    "    dW2 = grads[\"dW2\"]\n",
    "    db2 = grads[\"db2\"]\n",
    "\n",
    "    W1 = W1 - learning_rate*dW1\n",
    "    b1 = b1 - learning_rate*db1\n",
    "    W2 = W2 - learning_rate*dW2\n",
    "    b2 = b2 - learning_rate*db2\n",
    "\n",
    "    parameters = {\"W1\": W1,\n",
    "                  \"b1\": b1,\n",
    "                  \"W2\": W2,\n",
    "                  \"b2\": b2}\n",
    "    \n",
    "    return parameters"
   ]
  },
  {
   "cell_type": "markdown",
   "metadata": {},
   "source": [
    "### 2.9. Integrating the Model"
   ]
  },
  {
   "cell_type": "code",
   "execution_count": 12,
   "metadata": {},
   "outputs": [],
   "source": [
    "def nn_model(X, Y, n_h=4, scaling_factor=0.01, learning_rate=1.2, num_iterations = 10000, print_cost=False):\n",
    "\n",
    "    parameters = initialize_parameters(n_x, n_h, n_y, scaling_factor)\n",
    "    \n",
    "    X = normalize(X)\n",
    "\n",
    "    for i in range(0, num_iterations):\n",
    "        A2, tmp = forward_propagation(X, parameters)\n",
    "        cost = compute_cost(A2, Y)\n",
    "        grads = backward_propagation(parameters, tmp, X, Y)\n",
    "        parameters = update_parameters(parameters, grads, learning_rate)\n",
    "        \n",
    "        if print_cost and i % 1000 == 0:\n",
    "            print (\"Cost after iteration %i: %f\" %(i, cost))\n",
    "\n",
    "    return parameters # , cost    //this cost was added temporarily for hyper parameter tuning phase"
   ]
  },
  {
   "cell_type": "markdown",
   "metadata": {},
   "source": [
    "## 3. Hyperparameter Tunning"
   ]
  },
  {
   "cell_type": "markdown",
   "metadata": {},
   "source": [
    "### 3.1. Implementing prediction function"
   ]
  },
  {
   "cell_type": "markdown",
   "metadata": {},
   "source": [
    "Here I define predicted labels as an array in which the highest probability returned by sigmoid function will be set to 1 and others to 0"
   ]
  },
  {
   "cell_type": "code",
   "execution_count": 13,
   "metadata": {},
   "outputs": [],
   "source": [
    "def predict(parameters, X):\n",
    "    \n",
    "    A2, tmp = forward_propagation(X, parameters)\n",
    "    \n",
    "    predictions = (A2==np.max(A2,axis=0)).astype(int)\n",
    "    \n",
    "    return predictions"
   ]
  },
  {
   "cell_type": "markdown",
   "metadata": {},
   "source": [
    "### 3.2. Implementing evaluation function"
   ]
  },
  {
   "cell_type": "code",
   "execution_count": 14,
   "metadata": {},
   "outputs": [],
   "source": [
    "def pred_evaluation(predictions,Y):\n",
    "    m = np.shape(Y)[1]\n",
    "    correct = np.sum(np.min((predictions==Y).astype(int),axis=0))\n",
    "    accuracy = correct/m*100\n",
    "    \n",
    "    return accuracy    "
   ]
  },
  {
   "cell_type": "markdown",
   "metadata": {},
   "source": [
    "### 3.3. Number of units in hidden layer"
   ]
  },
  {
   "cell_type": "code",
   "execution_count": 15,
   "metadata": {},
   "outputs": [
    {
     "name": "stdout",
     "output_type": "stream",
     "text": [
      "The accuracy with 2 units in hidden layer is: 40.6 % \n",
      "The accuracy with 3 units in hidden layer is: 38.8 % \n",
      "The accuracy with 4 units in hidden layer is: 41.6 % \n",
      "The accuracy with 5 units in hidden layer is: 39.1 % \n",
      "The accuracy with 6 units in hidden layer is: 50.9 % \n",
      "The accuracy with 7 units in hidden layer is: 40.0 % \n",
      "The accuracy with 8 units in hidden layer is: 40.3 % \n",
      "The accuracy with 9 units in hidden layer is: 47.8 % \n",
      "The accuracy with 10 units in hidden layer is: 40.0 % \n",
      "The accuracy with 15 units in hidden layer is: 38.1 % \n",
      "The accuracy with 20 units in hidden layer is: 37.5 % \n",
      "The best number of hidden layer units is 6.\n"
     ]
    },
    {
     "data": {
      "image/png": "[encoded data removed]",
      "text/plain": [
       "<Figure size 432x288 with 1 Axes>"
      ]
     },
     "metadata": {
      "needs_background": "light"
     },
     "output_type": "display_data"
    }
   ],
   "source": [
    "test_set = (2,3,4,5,6,7,8,9,10,15,20)\n",
    "accuracy_log = []\n",
    "max_accuracy = 0\n",
    "best_result = 0\n",
    "for i in test_set:\n",
    "    parameters = nn_model(X_train, Y_train, n_h = i, scaling_factor = 0.001, learning_rate = 0.3, num_iterations = 5000)\n",
    "    predictions = predict(parameters, X_cv)\n",
    "    accuracy = pred_evaluation(predictions,Y_cv)\n",
    "    accuracy_log.append(accuracy)\n",
    "    print(\"The accuracy with %d units in hidden layer is: %.1f %% \" %(i,accuracy))\n",
    "    if accuracy > max_accuracy:\n",
    "        max_accuracy = accuracy\n",
    "        best_result = i\n",
    "  \n",
    "plt.plot(test_set, accuracy_log)\n",
    "print(\"The best number of hidden layer units is %d.\" %best_result)"
   ]
  },
  {
   "cell_type": "markdown",
   "metadata": {},
   "source": [
    "### 3.4. Random initialization scaling factor"
   ]
  },
  {
   "cell_type": "code",
   "execution_count": 92,
   "metadata": {},
   "outputs": [
    {
     "name": "stdout",
     "output_type": "stream",
     "text": [
      "The accuracy with scaling factor 0.001 is: 17.2 % \n",
      "The accuracy with scaling factor 0.003 is: 45.9 % \n",
      "The accuracy with scaling factor 0.010 is: 41.9 % \n",
      "The accuracy with scaling factor 0.030 is: 44.7 % \n",
      "The accuracy with scaling factor 0.100 is: 55.9 % \n",
      "The accuracy with scaling factor 0.300 is: 28.1 % \n",
      "The accuracy with scaling factor 1.000 is: 53.4 % \n",
      "The best scaling factor is 0.100.\n"
     ]
    },
    {
     "data": {
      "image/png": "[encoded data removed]",
      "text/plain": [
       "<Figure size 432x288 with 1 Axes>"
      ]
     },
     "metadata": {
      "needs_background": "light"
     },
     "output_type": "display_data"
    }
   ],
   "source": [
    "test_set = (0.001,0.003,0.01,0.03,0.1,0.3,1)\n",
    "accuracy_log = []\n",
    "max_accuracy = 0\n",
    "best_result = 0\n",
    "for i in test_set:\n",
    "    parameters = nn_model(X_train, Y_train, n_h = 7, scaling_factor = i, learning_rate = 0.3, num_iterations = 5000)\n",
    "    predictions = predict(parameters, X_cv)\n",
    "    accuracy = pred_evaluation(predictions,Y_cv)\n",
    "    accuracy_log.append(accuracy)\n",
    "    print(\"The accuracy with scaling factor %.3f is: %.1f %% \" %(i,accuracy))\n",
    "    if accuracy > max_accuracy:\n",
    "        max_accuracy = accuracy\n",
    "        best_result = i\n",
    "\n",
    "plt.plot(test_set, accuracy_log)\n",
    "print(\"The best scaling factor is %.3f.\" %best_result)"
   ]
  },
  {
   "cell_type": "markdown",
   "metadata": {},
   "source": [
    "### 3.5. Learning rate"
   ]
  },
  {
   "cell_type": "code",
   "execution_count": 93,
   "metadata": {},
   "outputs": [
    {
     "name": "stdout",
     "output_type": "stream",
     "text": [
      "The accuracy with learning rate 0.03 is: 51.2 % \n",
      "The accuracy with learning rate 0.10 is: 45.0 % \n",
      "The accuracy with learning rate 0.30 is: 48.4 % \n",
      "The accuracy with learning rate 0.50 is: 55.0 % \n",
      "The accuracy with learning rate 0.70 is: 47.2 % \n",
      "The accuracy with learning rate 0.90 is: 58.1 % \n",
      "The accuracy with learning rate 1.10 is: 58.8 % \n",
      "The accuracy with learning rate 1.30 is: 45.9 % \n",
      "The accuracy with learning rate 1.50 is: 46.9 % \n",
      "The accuracy with learning rate 1.80 is: 54.1 % \n",
      "The best learning rate is 1.10.\n"
     ]
    },
    {
     "data": {
      "image/png": "[encoded data removed]",
      "text/plain": [
       "<Figure size 432x288 with 1 Axes>"
      ]
     },
     "metadata": {
      "needs_background": "light"
     },
     "output_type": "display_data"
    }
   ],
   "source": [
    "test_set = (0.03,0.1,0.3,0.5,0.7,0.9,1.1,1.3,1.5,1.8)\n",
    "accuracy_log = []\n",
    "max_accuracy = 0\n",
    "best_result = 0\n",
    "for i in test_set:\n",
    "    parameters = nn_model(X_train, Y_train, n_h = 6, scaling_factor = 0.001, learning_rate = i, num_iterations = 5000)\n",
    "    predictions = predict(parameters, X_cv)\n",
    "    accuracy = pred_evaluation(predictions,Y_cv)\n",
    "    accuracy_log.append(accuracy)\n",
    "    print(\"The accuracy with learning rate %.2f is: %.1f %% \" %(i,accuracy))\n",
    "    if accuracy > max_accuracy:\n",
    "        max_accuracy = accuracy\n",
    "        best_result = i\n",
    "\n",
    "plt.plot(test_set, accuracy_log)\n",
    "print(\"The best learning rate is %.2f.\" %best_result)"
   ]
  },
  {
   "cell_type": "markdown",
   "metadata": {},
   "source": [
    "### 3.6. Number of iterations"
   ]
  },
  {
   "cell_type": "code",
   "execution_count": 94,
   "metadata": {},
   "outputs": [
    {
     "name": "stdout",
     "output_type": "stream",
     "text": [
      "The accuracy with 1000 iterations is: 40.3 % \n",
      "The accuracy with 2000 iterations is: 39.1 % \n",
      "The accuracy with 5000 iterations is: 41.2 % \n",
      "The accuracy with 10000 iterations is: 50.0 % \n",
      "The accuracy with 20000 iterations is: 36.2 % \n",
      "The accuracy with 50000 iterations is: 51.9 % \n",
      "The best number of iterations is 50000.\n"
     ]
    },
    {
     "data": {
      "image/png": "[encoded data removed]",
      "text/plain": [
       "<Figure size 432x288 with 1 Axes>"
      ]
     },
     "metadata": {
      "needs_background": "light"
     },
     "output_type": "display_data"
    }
   ],
   "source": [
    "test_set = (1000,2000,5000,10000,20000,50000)\n",
    "accuracy_log = []\n",
    "max_accuracy = 0\n",
    "best_result = 0\n",
    "for i in test_set:\n",
    "    parameters = nn_model(X_train, Y_train, n_h = 7, scaling_factor = 0.001, learning_rate = 0.3, num_iterations = i)\n",
    "    predictions = predict(parameters, X_cv)\n",
    "    accuracy = pred_evaluation(predictions,Y_cv)\n",
    "    accuracy_log.append(accuracy)\n",
    "    print(\"The accuracy with %d iterations is: %.1f %% \" %(i,accuracy))\n",
    "    if accuracy > max_accuracy:\n",
    "        max_accuracy = accuracy\n",
    "        best_result = i\n",
    "\n",
    "plt.plot(test_set, accuracy_log)\n",
    "print(\"The best number of iterations is %d.\" %best_result)"
   ]
  },
  {
   "cell_type": "markdown",
   "metadata": {},
   "source": [
    "### 3.7. Iterating through all the HP values to understand the performance better"
   ]
  },
  {
   "cell_type": "markdown",
   "metadata": {},
   "source": [
    "***Warning*** This is not by any means something efficient to do in practice and is being carried out here just for learning purposes!       \n",
    "\n",
    "For furthur information, check out the HPAnalysis directory."
   ]
  },
  {
   "cell_type": "code",
   "execution_count": null,
   "metadata": {},
   "outputs": [],
   "source": [
    "test_set1 = (2,3,4,5,6,7,8,9,10,11,12,15,17,20)\n",
    "test_set2 = (0.001,0.003,0.01,0.03,0.1,0.3,1)\n",
    "test_set3 = (0.03,0.1,0.3,0.5,0.7,0.9,1.1,1.3,1.5,1.8)\n",
    "test_set4 = (500,1000,2000,3000,5000,7000,10000,15000,20000,30000,50000)\n",
    "max_accuracy = 0\n",
    "best_result = {}\n",
    "f = open('HPTunningResults.csv', 'w')\n",
    "for i in test_set1:\n",
    "    print(\"\\nn_h = %d\" %i)\n",
    "    for j in test_set2:\n",
    "        print(\"\\nscaling_factor = %.3f\" %j)\n",
    "        for k in test_set3:\n",
    "            print(\"\\nlearning_rate= %.2f\" %k)\n",
    "            for l in test_set4:\n",
    "                parameters , cost = nn_model(X_train, Y_train, n_h = i, scaling_factor =j, learning_rate = k, num_iterations = l)\n",
    "                predictions = predict(parameters, X_cv)\n",
    "                accuracy = pred_evaluation(predictions,Y_cv)\n",
    "                print(\"n_h= %d scaling_factor= %.3f learning_rate= %.2f iterations= %d cost= %.6f ---> %.1f %% \" %(i,j,k,l,cost,accuracy))\n",
    "                print('%d,%.3f,%.2f,%d,%.6f,%.3f' %(i,j,k,l,cost,accuracy), file=f)\n",
    "                if accuracy > max_accuracy:\n",
    "                    max_accuracy = accuracy\n",
    "                    best_result[\"n_h\"],best_result[\"scaling_factor\"],best_result[\"learning_rate\"],best_result[\"num_iterations\"] = i , j , k , l\n",
    "f.close()\n",
    "print(\"\\n\\n\")\n",
    "print(best_result)"
   ]
  },
  {
   "cell_type": "markdown",
   "metadata": {},
   "source": [
    "## 4. Predicting and Evaluation"
   ]
  },
  {
   "cell_type": "markdown",
   "metadata": {},
   "source": [
    "### 4.1. Predicting with simple linear reagression model as a baseline"
   ]
  },
  {
   "cell_type": "markdown",
   "metadata": {},
   "source": [
    "Here I used the original labels (scores from 3 to 8) to train and predict. Besides, there is no cross validation set defined here."
   ]
  },
  {
   "cell_type": "code",
   "execution_count": 15,
   "metadata": {},
   "outputs": [
    {
     "name": "stdout",
     "output_type": "stream",
     "text": [
      "Accuracy with training simple linear regression model is 42.8 %.\n"
     ]
    }
   ],
   "source": [
    "clf = LinearRegression(normalize=True,copy_X=True);\n",
    "orgX_train , orgX_test , orgY_train , orgY_test = train_test_split(X.T, Y.T, train_size = 0.8)\n",
    "clf.fit(orgX_train, orgY_train, sample_weight=None);\n",
    "pred = clf.predict(orgX_test)\n",
    "pred = pred.astype(int)\n",
    "accuracy = np.sum((pred==orgY_test).astype(int))/np.shape(pred)[0]*100\n",
    "print(\"Accuracy with training simple linear regression model is %.1f %%.\" %accuracy)"
   ]
  },
  {
   "cell_type": "markdown",
   "metadata": {},
   "source": [
    "### 4.2. Predicting with trained model"
   ]
  },
  {
   "cell_type": "markdown",
   "metadata": {},
   "source": [
    "Here I have used the convention of treating each score (3 to 8) as a seperate class and definig the labels as an array with 1 for the desires class and 0 for the rest. For example:  \n",
    "Score 3 : array([1,0,0,0,0,0])  \n",
    "Score 4 : array([0,1,0,0,0,0])  \n",
    "Score 5 : array([0,0,1,0,0,0])  \n",
    "and so on."
   ]
  },
  {
   "cell_type": "code",
   "execution_count": 17,
   "metadata": {},
   "outputs": [
    {
     "name": "stdout",
     "output_type": "stream",
     "text": [
      "Cost after iteration 0: 4.158967\n",
      "Cost after iteration 1000: 1.447619\n",
      "Cost after iteration 2000: 1.414106\n",
      "Cost after iteration 3000: 1.404701\n",
      "Cost after iteration 4000: 1.398386\n",
      "Cost after iteration 5000: 1.393625\n",
      "Cost after iteration 6000: 1.390249\n",
      "Cost after iteration 7000: 1.387697\n",
      "Cost after iteration 8000: 1.385687\n",
      "Cost after iteration 9000: 1.384050\n",
      "The model accuracy is 32.2 %\n"
     ]
    }
   ],
   "source": [
    "parameters = nn_model(X_train, Y_train, n_h = 6, scaling_factor = 0.01, learning_rate = 1.1, num_iterations = 10000, print_cost=True)\n",
    "predictions = predict(parameters, X_test)\n",
    "accuracy = pred_evaluation(predictions,Y_test)\n",
    "print(\"The model accuracy is %.1f %%\" %accuracy)"
   ]
  },
  {
   "cell_type": "markdown",
   "metadata": {},
   "source": [
    "The problem with previous mapping of the scores is that it does not take into acount the order in scores. These classes have an ordinal relation which is a valuable information if could be put to a use. To capture this information, here I build the labels' matrix by NNRank convetion. That is, the label arrays are defined as follows:  \n",
    "Score 3 : array([1,0,0,0,0,0])  \n",
    "Score 4 : array([1,1,0,0,0,0])  \n",
    "Score 5 : array([1,1,1,0,0,0])  \n",
    "and so on."
   ]
  },
  {
   "cell_type": "code",
   "execution_count": 26,
   "metadata": {},
   "outputs": [],
   "source": [
    "rankY = np.empty((0,m), int)\n",
    "for i in range(3,9):\n",
    "    rankY = np.append(rankY,(i<=Y).astype(int),axis=0)\n",
    "rankX_train , rankX_test , rankY_train , rankY_test = train_test_split(X.T, rankY.T, train_size = 0.8)\n",
    "rankX_train , rankX_cv , rankY_train , rankY_cv = train_test_split(rankX_train, rankY_train, train_size = 0.75)\n",
    "rankX_train = rankX_train.T\n",
    "rankX_cv = rankX_cv.T\n",
    "rankX_test = rankX_test.T\n",
    "rankY_train = rankY_train.T\n",
    "rankY_cv = rankY_cv.T\n",
    "rankY_test = rankY_test.T"
   ]
  },
  {
   "cell_type": "markdown",
   "metadata": {},
   "source": [
    "I cannot use the previous prediction function, because it assumed 6 different output classes, but I want to take into acount the ordrinal relation between these classes. \n",
    "\n",
    "There are several approaches to dp the prediction. In the first one, I build a cumulative probability matrix. That is, in each row, the probability is the mean of that node and previous ones. For example, assume an output array for a certain sample as folows:  \n",
    "sample m output = array ( [0.8, 0.7, 0.4, 0.1, 0.1, 0.0] )  \n",
    "The cumulative probability array for this sample would be:  \n",
    "cumulativep = array ( [0.8, 0.75, 0.63, 0.5, 0.42, 0.35] )\n",
    "\n",
    "As for the prediction, I just simply scan through output nodes and stop when the output of a node is smaller than the predefined threshold. The index k of the last node whose output is bigger than threshold is the predicted category of the data point."
   ]
  },
  {
   "cell_type": "code",
   "execution_count": 19,
   "metadata": {},
   "outputs": [],
   "source": [
    "def oPredict1(parameters, X, threshold):\n",
    "    \n",
    "    A2, tmp = forward_propagation(X, parameters)\n",
    "    \n",
    "    m = np.shape(X)[1]\n",
    "    cumulativep = np.zeros((n_y,m),float)\n",
    "    for i in range(0,n_y):\n",
    "        cumulativep[i] = np.mean(A2[:i+1],axis=0)\n",
    "    \n",
    "    predictions = np.zeros((n_y,m), int)\n",
    "    # I implemented this vectorized method so that I would not be forced to iterate through all examples!\n",
    "    for i in range(0,n_y):\n",
    "        predictions[:i+1] += (cumulativep[i]>threshold).astype(int)\n",
    "    predictions = (predictions>0).astype(int)\n",
    "       \n",
    "    return predictions"
   ]
  },
  {
   "cell_type": "markdown",
   "metadata": {},
   "source": [
    "Here, I build a 0/1 matrix based on the probability of each node, then I take the average of these values just like cumulative matrix in the previous methos. For example, assume an output array for a certain sample as folows:  \n",
    "sample m output = array ( [0.8, 0.7, 0.4, 0.1, 0.1, 0.0] )  \n",
    "It will be transformed to array ( [1, 1, 0, 0, 0, 0] )  \n",
    "The I build a matrix by averaging which for our example results in array ( [1, 1, 0.67, 0.5, 0.4, 0.33] )\n",
    "\n",
    "For the prediction, I just simply scan through output nodes and stop when the output of a node is smaller than the predefined threshold. The index k of the last node whose output is bigger than threshold is the predicted category of the data point."
   ]
  },
  {
   "cell_type": "code",
   "execution_count": 20,
   "metadata": {},
   "outputs": [],
   "source": [
    "def oPredict2(parameters, X, threshold):\n",
    "    \n",
    "    A2, tmp = forward_propagation(X, parameters)\n",
    "    \n",
    "    m = np.shape(X)[1]\n",
    "    A2 = (A2>0.5).astype(int)\n",
    "    temp = np.zeros((n_y,m),float)\n",
    "    for i in range(0,n_y):\n",
    "        temp[i] = np.mean(A2[:i+1],axis=0)\n",
    "    \n",
    "    predictions = np.zeros((n_y,m), int)\n",
    "    # I implemented this vectorized method so that I would not be forced to iterate through all examples!\n",
    "    for i in range(0,n_y):\n",
    "        predictions[:i+1] += (temp[i]>threshold).astype(int)\n",
    "    predictions = (predictions>0).astype(int)\n",
    "       \n",
    "    return predictions"
   ]
  },
  {
   "cell_type": "markdown",
   "metadata": {},
   "source": [
    "As for my third prediction method, I just simply scan through output nodes and stop when the output of a node is smaller than the predefined threshold for the sigmoid function (0.5). The index k of the last node whose output is bigger than threshold is the predicted category of the data point."
   ]
  },
  {
   "cell_type": "code",
   "execution_count": 21,
   "metadata": {},
   "outputs": [],
   "source": [
    "def oPredict3(parameters, X):\n",
    "    \n",
    "    A2, tmp = forward_propagation(X, parameters)\n",
    "    \n",
    "    m = np.shape(X)[1]\n",
    "    A2 = (A2>0.5).astype(int)\n",
    "       \n",
    "    predictions = np.zeros((n_y,m), int)\n",
    "    # I implemented this vectorized method so that I would not be forced to iterate through all examples!\n",
    "    for i in range(0,n_y):\n",
    "        predictions[:i+1] += A2[i]\n",
    "    predictions = (predictions>0).astype(int)\n",
    "       \n",
    "    return predictions"
   ]
  },
  {
   "cell_type": "markdown",
   "metadata": {},
   "source": [
    "Here I run a test to find the best threshold for the first and the second prediction methods on cross validation set."
   ]
  },
  {
   "cell_type": "code",
   "execution_count": 23,
   "metadata": {},
   "outputs": [
    {
     "name": "stdout",
     "output_type": "stream",
     "text": [
      "The accuracy for 3 predictions with threshold 0.50 are: 7.2 % , 10.9 % , 43.8 % respectively\n",
      "The accuracy for 3 predictions with threshold 0.55 are: 1.9 % , 8.1 % , 37.5 % respectively\n",
      "The accuracy for 3 predictions with threshold 0.60 are: 8.4 % , 26.2 % , 40.6 % respectively\n",
      "The accuracy for 3 predictions with threshold 0.65 are: 8.8 % , 31.2 % , 37.2 % respectively\n",
      "The accuracy for 3 predictions with threshold 0.70 are: 28.7 % , 30.0 % , 40.3 % respectively\n",
      "The accuracy for 3 predictions with threshold 0.75 are: 36.9 % , 21.6 % , 45.6 % respectively\n",
      "The accuracy for 3 predictions with threshold 0.80 are: 43.8 % , 44.1 % , 44.1 % respectively\n",
      "The accuracy for 3 predictions with threshold 0.85 are: 43.8 % , 45.6 % , 45.6 % respectively\n",
      "The accuracy for 3 predictions with threshold 0.90 are: 30.0 % , 32.8 % , 32.8 % respectively\n",
      "The accuracy for 3 predictions with threshold 0.95 are: 40.0 % , 38.8 % , 38.8 % respectively\n",
      "\n",
      "The best threshold for first prediction is 0.80\n",
      "The best threshold for second prediction is 0.85\n",
      "This prediction function has no threshold!\n"
     ]
    },
    {
     "data": {
      "text/plain": [
       "<matplotlib.legend.Legend at 0x29b3349fd88>"
      ]
     },
     "execution_count": 23,
     "metadata": {},
     "output_type": "execute_result"
    },
    {
     "data": {
      "image/png": "[encoded data removed]",
      "text/plain": [
       "<Figure size 432x288 with 1 Axes>"
      ]
     },
     "metadata": {
      "needs_background": "light"
     },
     "output_type": "display_data"
    }
   ],
   "source": [
    "test_set = (0.5,0.55,0.6,0.65,0.7,0.75,0.8,0.85,0.9,0.95)\n",
    "accuracy_log1 = []\n",
    "accuracy_log2 = []\n",
    "accuracy_log3 = []\n",
    "max_accuracy1 = 0\n",
    "best_result1 = 0\n",
    "max_accuracy2 = 0\n",
    "best_result2 = 0\n",
    "for i in test_set:\n",
    "    parameters = nn_model(rankX_train, rankY_train, n_h = 6, scaling_factor = 0.01, learning_rate = 0.9, num_iterations = 5000)\n",
    "    predictions1 = oPredict1(parameters, rankX_cv, threshold = i)\n",
    "    accuracy1 = pred_evaluation(predictions1,rankY_cv)\n",
    "    predictions2 = oPredict2(parameters, rankX_cv, threshold = i)\n",
    "    accuracy2 = pred_evaluation(predictions2,rankY_cv)\n",
    "    predictions3 = oPredict3(parameters, rankX_cv)\n",
    "    accuracy3 = pred_evaluation(predictions3,rankY_cv)\n",
    "    accuracy_log1.append(accuracy1)\n",
    "    accuracy_log2.append(accuracy2)\n",
    "    accuracy_log3.append(accuracy3)\n",
    "    print(\"The accuracy for 3 predictions with threshold %.2f are: %.1f %% , %.1f %% , %.1f %% respectively\" %(i,accuracy1,accuracy2,accuracy3))\n",
    "    if accuracy1 > max_accuracy1:\n",
    "        max_accuracy1 = accuracy1\n",
    "        best_result1 = i\n",
    "    if accuracy2 > max_accuracy2:\n",
    "        max_accuracy2 = accuracy2\n",
    "        best_result2 = i\n",
    "\n",
    "print()\n",
    "plt.plot(test_set, accuracy_log1, label='Prediction1')\n",
    "print(\"The best threshold for first prediction is %.2f\" %best_result1)\n",
    "plt.plot(test_set, accuracy_log2, label='Prediction2')\n",
    "print(\"The best threshold for second prediction is %0.2f\" %best_result2)\n",
    "plt.plot(test_set, accuracy_log3, label='Prediction3')\n",
    "print(\"This prediction function has no threshold!\")\n",
    "plt.legend()"
   ]
  },
  {
   "cell_type": "markdown",
   "metadata": {},
   "source": [
    "The third prediction method is obviously working better. It is acutually pretty similar to the first and second model, if their threshold is set to 1. Now I can run my ordinal prediction methods on test set based on retrieved thresholds."
   ]
  },
  {
   "cell_type": "code",
   "execution_count": 27,
   "metadata": {},
   "outputs": [
    {
     "name": "stdout",
     "output_type": "stream",
     "text": [
      "Cost after iteration 0: 4.158810\n",
      "Cost after iteration 1000: 0.867718\n",
      "Cost after iteration 2000: 0.838206\n",
      "Cost after iteration 3000: 0.828592\n",
      "Cost after iteration 4000: 0.824160\n",
      "The prediction1 accuracy is 45.6 %\n",
      "The prediction2 accuracy is 48.1 %\n",
      "The prediction3 accuracy is 48.1 %\n"
     ]
    }
   ],
   "source": [
    "parameters = nn_model(rankX_train, rankY_train, n_h = 6, scaling_factor = 0.01, learning_rate = 0.9, num_iterations = 5000, print_cost=True)\n",
    "predictions1 = oPredict1(parameters, rankX_test, threshold = 0.80)\n",
    "accuracy1 = pred_evaluation(predictions1,rankY_test)\n",
    "print(\"The prediction1 accuracy is %.1f %%\" %accuracy1)\n",
    "predictions2 = oPredict2(parameters, rankX_test, threshold = 0.85)\n",
    "accuracy2 = pred_evaluation(predictions2,rankY_test)\n",
    "print(\"The prediction2 accuracy is %.1f %%\" %accuracy2)\n",
    "predictions3 = oPredict3(parameters, rankX_test)\n",
    "accuracy3 = pred_evaluation(predictions3,rankY_test)\n",
    "print(\"The prediction3 accuracy is %.1f %%\" %accuracy3)"
   ]
  },
  {
   "cell_type": "markdown",
   "metadata": {},
   "source": [
    "After all, my neural network doesn't seem to be working any better than the linear regression on this data set!"
   ]
  }
 ],
 "metadata": {
  "kernelspec": {
   "display_name": "Python 3",
   "language": "python",
   "name": "python3"
  },
  "language_info": {
   "codemirror_mode": {
    "name": "ipython",
    "version": 3
   },
   "file_extension": ".py",
   "mimetype": "text/x-python",
   "name": "python",
   "nbconvert_exporter": "python",
   "pygments_lexer": "ipython3",
   "version": "3.7.6"
  }
 },
 "nbformat": 4,
 "nbformat_minor": 4
}
