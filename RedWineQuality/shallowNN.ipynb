{
 "cells": [
  {
   "cell_type": "markdown",
   "metadata": {},
   "source": [
    "# Creating a Shallow Neural Network"
   ]
  },
  {
   "cell_type": "markdown",
   "metadata": {},
   "source": [
    "Creating a neural network model with 1 hidden layer. The used acitvation function is *tanh* in hidden layer and *sigmoid* in output layer."
   ]
  },
  {
   "cell_type": "markdown",
   "metadata": {},
   "source": [
    "[**1. Initialization**](#1.-Initialization)\n",
    "\n",
    "[**2. Model Building**](#2.-Model-Building)\n",
    "\n",
    "[**3. Hyperparameter Tunning**](#3.-Hyperparameter-Tunning)\n",
    "\n",
    "[**4. Predicting and Evaluation**](#4.-Predicting-and-Evaluation)\n"
   ]
  },
  {
   "cell_type": "markdown",
   "metadata": {},
   "source": [
    "## 1. Initialization"
   ]
  },
  {
   "cell_type": "markdown",
   "metadata": {},
   "source": [
    "### 1.1. Package imports"
   ]
  },
  {
   "cell_type": "code",
   "execution_count": 77,
   "metadata": {},
   "outputs": [],
   "source": [
    "import numpy as np\n",
    "import pandas as pd\n",
    "from sklearn.model_selection import train_test_split\n",
    "import matplotlib.pyplot as plt\n",
    "from sklearn.linear_model import LinearRegression\n",
    "\n",
    "%matplotlib inline"
   ]
  },
  {
   "cell_type": "markdown",
   "metadata": {},
   "source": [
    "### 1.2. Loading Data"
   ]
  },
  {
   "cell_type": "markdown",
   "metadata": {},
   "source": [
    "**m**: total number of samples  \n",
    "**n_x**: number of features  \n",
    "**n_y**: number of output classes  \n",
    "**X**: input data  \n",
    "**Y**: labels  \n",
    "**newY**: labels extracted into rows of different classes as bool"
   ]
  },
  {
   "cell_type": "code",
   "execution_count": 78,
   "metadata": {},
   "outputs": [
    {
     "name": "stdout",
     "output_type": "stream",
     "text": [
      "The shape of X is: (11, 1599)\n",
      "The shape of Y is: (1, 1599)\n",
      "The shape of newY is: (6, 1599)\n",
      "Total number of examples: 1599\n"
     ]
    }
   ],
   "source": [
    "data = pd.read_csv(\"winequality-red.csv\")\n",
    "\n",
    "shape_data = data.shape\n",
    "m = shape_data[0]\n",
    "n_x = shape_data[1]-1\n",
    "n_y = 6\n",
    "\n",
    "X = np.reshape(np.array(data.iloc[:,:n_x]),(m,n_x))\n",
    "X = X.T\n",
    "Y = np.reshape(np.array(data.iloc[:,n_x]),(m,1))\n",
    "Y = Y.T\n",
    "\n",
    "newY = np.empty((0,m), int)\n",
    "for i in range(3,9):\n",
    "    newY = np.append(newY,(Y==i).astype(int),axis=0)\n",
    "\n",
    "shape_X = np.shape(X)\n",
    "shape_Y = np.shape(Y)\n",
    "shape_newY = np.shape(newY)\n",
    "\n",
    "\n",
    "print ('The shape of X is: ' + str(shape_X))\n",
    "print ('The shape of Y is: ' + str(shape_Y))\n",
    "print ('The shape of newY is: ' + str(shape_newY))\n",
    "print ('Total number of examples: %d' % (m))"
   ]
  },
  {
   "cell_type": "markdown",
   "metadata": {},
   "source": [
    "### 1.3. Deviding Data into Train, Cross Validation and Test sets"
   ]
  },
  {
   "cell_type": "markdown",
   "metadata": {},
   "source": [
    "**train**: training set (60%)  \n",
    "**cv**: cross validation set (20%)  \n",
    "**test**: test set (20%)  "
   ]
  },
  {
   "cell_type": "code",
   "execution_count": 79,
   "metadata": {},
   "outputs": [],
   "source": [
    "X_train , X_test , Y_train , Y_test = train_test_split(X.T, newY.T, train_size = 0.8)\n",
    "X_train , X_cv , Y_train , Y_cv = train_test_split(X_train, Y_train, train_size = 0.75)\n",
    "X_train = X_train.T\n",
    "X_cv = X_cv.T\n",
    "X_test = X_test.T\n",
    "Y_train = Y_train.T\n",
    "Y_cv = Y_cv.T\n",
    "Y_test = Y_test.T"
   ]
  },
  {
   "cell_type": "markdown",
   "metadata": {},
   "source": [
    "## 2. Model Building"
   ]
  },
  {
   "cell_type": "markdown",
   "metadata": {},
   "source": [
    "### 2.1. Normalizing the data"
   ]
  },
  {
   "cell_type": "code",
   "execution_count": 80,
   "metadata": {},
   "outputs": [],
   "source": [
    "def normalize(X):\n",
    "    \n",
    "    mean = np.mean(X,axis=1)\n",
    "    mean = np.reshape(mean,(np.shape(mean)[0],1))\n",
    "    std = np.std(X,axis=1)\n",
    "    std = np.reshape(std,(np.shape(std)[0],1))\n",
    "    \n",
    "    X_norm = (X-mean)/std\n",
    "    \n",
    "    return X_norm"
   ]
  },
  {
   "cell_type": "markdown",
   "metadata": {},
   "source": [
    "### 2.2. Defining neural network structure"
   ]
  },
  {
   "cell_type": "markdown",
   "metadata": {},
   "source": [
    "**n_x**: the size of the input layer (this is number of features)  \n",
    "**n_h**: the size of the hidden layer (this is initially set to 8, but will be tunned in next section)  \n",
    "**n_y**: the size of the output layer (based on the data, Y has 6 unique values from 3 to 8 inclusive)"
   ]
  },
  {
   "cell_type": "code",
   "execution_count": 81,
   "metadata": {},
   "outputs": [
    {
     "name": "stdout",
     "output_type": "stream",
     "text": [
      "n_x = 11 \n",
      "n_h = 8 \n",
      "n_y = 6\n"
     ]
    }
   ],
   "source": [
    "n_x\n",
    "n_h = 8\n",
    "n_y\n",
    "\n",
    "print(\"n_x = %d \\nn_h = %d \\nn_y = %d\" %(n_x,n_h,n_y))"
   ]
  },
  {
   "cell_type": "markdown",
   "metadata": {},
   "source": [
    "### 2.3. Initializing the model's parameters"
   ]
  },
  {
   "cell_type": "markdown",
   "metadata": {},
   "source": [
    "**parameters**: python dictionary containing:  \n",
    "*W1*: weight matrix of shape (n_h, n_x)  \n",
    "*b1*: bias vector of shape (n_h, 1)  \n",
    "*W2*: weight matrix of shape (n_y, n_h)  \n",
    "*b2*: bias vector of shape (n_y, 1)"
   ]
  },
  {
   "cell_type": "code",
   "execution_count": 82,
   "metadata": {},
   "outputs": [],
   "source": [
    "def initialize_parameters(n_x, n_h, n_y, scaling_factor):\n",
    "    \n",
    "    W1 = np.random.randn(n_h,n_x)*scaling_factor\n",
    "    b1 = np.zeros((n_h,1))\n",
    "    W2 = np.random.randn(n_y,n_h)*scaling_factor\n",
    "    b2 = np.zeros((n_y,1))\n",
    "    \n",
    "    assert (W1.shape == (n_h, n_x))\n",
    "    assert (b1.shape == (n_h, 1))\n",
    "    assert (W2.shape == (n_y, n_h))\n",
    "    assert (b2.shape == (n_y, 1))\n",
    "    \n",
    "    parameters = {\"W1\": W1,\n",
    "                  \"b1\": b1,\n",
    "                  \"W2\": W2,\n",
    "                  \"b2\": b2}\n",
    "    \n",
    "    return parameters"
   ]
  },
  {
   "cell_type": "markdown",
   "metadata": {},
   "source": [
    "### 2.4. Defining Sigmoid function"
   ]
  },
  {
   "cell_type": "code",
   "execution_count": 83,
   "metadata": {},
   "outputs": [],
   "source": [
    "def sigmoid(z):\n",
    "    \n",
    "    s = 1/(1+np.exp(-z))\n",
    "        \n",
    "    return s"
   ]
  },
  {
   "cell_type": "markdown",
   "metadata": {},
   "source": [
    "### 2.5. Implementing forward propagation"
   ]
  },
  {
   "cell_type": "markdown",
   "metadata": {},
   "source": [
    "**Z1**: W1\\*X+b1  \n",
    "**A1**: The tanh output of the first layer activation  \n",
    "**Z2**: W2\\*A1+b2  \n",
    "**A2**: The sigmoid output of the second layer activation  \n",
    "**tmp**: a dictionary containing \"Z1\", \"A1\", \"Z2\" and \"A2\""
   ]
  },
  {
   "cell_type": "code",
   "execution_count": 84,
   "metadata": {},
   "outputs": [],
   "source": [
    "def forward_propagation(X, parameters):\n",
    "    \n",
    "    W1 = parameters[\"W1\"]\n",
    "    b1 = parameters[\"b1\"]\n",
    "    W2 = parameters[\"W2\"]\n",
    "    b2 = parameters[\"b2\"]\n",
    "   \n",
    "    Z1 = np.dot(W1,X)+b1\n",
    "    A1 = np.tanh(Z1)\n",
    "    Z2 = np.dot(W2,A1)+b2\n",
    "    A2 = sigmoid(Z2)\n",
    "        \n",
    "    assert(A2.shape == (n_y, X.shape[1]))\n",
    "    \n",
    "    tmp = {\"Z1\": Z1,\n",
    "           \"A1\": A1,\n",
    "           \"Z2\": Z2,\n",
    "           \"A2\": A2}\n",
    "    \n",
    "    return A2, tmp"
   ]
  },
  {
   "cell_type": "markdown",
   "metadata": {},
   "source": [
    "### 2.6. Computing Cost"
   ]
  },
  {
   "cell_type": "markdown",
   "metadata": {},
   "source": [
    "**cost**: cross-entropy cost"
   ]
  },
  {
   "cell_type": "code",
   "execution_count": 85,
   "metadata": {},
   "outputs": [],
   "source": [
    "def compute_cost(A2, Y):\n",
    "    \n",
    "    m = Y.shape[1]\n",
    "\n",
    "    cost = (-1/m)*np.sum(Y*np.log(A2)+(1-Y)*np.log(1-A2))\n",
    "    cost = float(np.squeeze(cost))  # making sure cost is the dimension we expect!\n",
    "                                    \n",
    "    assert(isinstance(cost, float))\n",
    "    \n",
    "    return cost"
   ]
  },
  {
   "cell_type": "markdown",
   "metadata": {},
   "source": [
    "### 2.7. Implementing backward propagation"
   ]
  },
  {
   "cell_type": "markdown",
   "metadata": {},
   "source": [
    "**grads**: python dictionary containing gradients with respect to different parameters"
   ]
  },
  {
   "cell_type": "code",
   "execution_count": 86,
   "metadata": {},
   "outputs": [],
   "source": [
    "def backward_propagation(parameters, tmp, X, Y):\n",
    "\n",
    "    m = X.shape[1]\n",
    "    \n",
    "    W1 = parameters[\"W1\"]\n",
    "    W2 = parameters[\"W2\"]\n",
    "   \n",
    "    A1 = tmp[\"A1\"]\n",
    "    A2 = tmp[\"A2\"]\n",
    "\n",
    "    dZ2 = A2-Y\n",
    "    dW2 = (1/m)*np.dot(dZ2,A1.T)\n",
    "    db2 = (1/m)*np.sum(dZ2,axis=1,keepdims=True)\n",
    "    dZ1 = np.dot(W2.T,dZ2)*(1-np.power(A1,2))\n",
    "    dW1 = (1/m)*np.dot(dZ1,X.T)\n",
    "    db1 = (1/m)*np.sum(dZ1,axis=1,keepdims=True)\n",
    "    \n",
    "    grads = {\"dW1\": dW1,\n",
    "             \"db1\": db1,\n",
    "             \"dW2\": dW2,\n",
    "             \"db2\": db2}\n",
    "    \n",
    "    return grads"
   ]
  },
  {
   "cell_type": "markdown",
   "metadata": {},
   "source": [
    "### 2.8. Parameters update"
   ]
  },
  {
   "cell_type": "code",
   "execution_count": 87,
   "metadata": {},
   "outputs": [],
   "source": [
    "def update_parameters(parameters, grads, learning_rate):\n",
    "\n",
    "    W1 = parameters[\"W1\"]\n",
    "    b1 = parameters[\"b1\"]\n",
    "    W2 = parameters[\"W2\"]\n",
    "    b2 = parameters[\"b2\"]\n",
    "\n",
    "    dW1 = grads[\"dW1\"]\n",
    "    db1 = grads[\"db1\"]\n",
    "    dW2 = grads[\"dW2\"]\n",
    "    db2 = grads[\"db2\"]\n",
    "\n",
    "    W1 = W1 - learning_rate*dW1\n",
    "    b1 = b1 - learning_rate*db1\n",
    "    W2 = W2 - learning_rate*dW2\n",
    "    b2 = b2 - learning_rate*db2\n",
    "\n",
    "    parameters = {\"W1\": W1,\n",
    "                  \"b1\": b1,\n",
    "                  \"W2\": W2,\n",
    "                  \"b2\": b2}\n",
    "    \n",
    "    return parameters"
   ]
  },
  {
   "cell_type": "markdown",
   "metadata": {},
   "source": [
    "### 2.9. Integrating the Model"
   ]
  },
  {
   "cell_type": "code",
   "execution_count": 88,
   "metadata": {},
   "outputs": [],
   "source": [
    "def nn_model(X, Y, n_h=4, scaling_factor=0.01, learning_rate=1.2, num_iterations = 10000, print_cost=False):\n",
    "\n",
    "    parameters = initialize_parameters(n_x, n_h, n_y, scaling_factor)\n",
    "    \n",
    "    X = normalize(X)\n",
    "\n",
    "    for i in range(0, num_iterations):\n",
    "        A2, tmp = forward_propagation(X, parameters)\n",
    "        cost = compute_cost(A2, Y)\n",
    "        grads = backward_propagation(parameters, tmp, X, Y)\n",
    "        parameters = update_parameters(parameters, grads, learning_rate)\n",
    "        \n",
    "        if print_cost and i % 1000 == 0:\n",
    "            print (\"Cost after iteration %i: %f\" %(i, cost))\n",
    "\n",
    "    return parameters"
   ]
  },
  {
   "cell_type": "markdown",
   "metadata": {},
   "source": [
    "## 3. Hyperparameter Tunning"
   ]
  },
  {
   "cell_type": "markdown",
   "metadata": {},
   "source": [
    "### 3.1. Implementing prediction function"
   ]
  },
  {
   "cell_type": "code",
   "execution_count": 89,
   "metadata": {},
   "outputs": [],
   "source": [
    "def predict(parameters, X):\n",
    "    \n",
    "    A2, tmp = forward_propagation(X, parameters)\n",
    "    \n",
    "    predictions = (A2==np.max(A2,axis=0)).astype(int)\n",
    "    \n",
    "    return predictions"
   ]
  },
  {
   "cell_type": "markdown",
   "metadata": {},
   "source": [
    "### 3.2. Implementing evaluation function"
   ]
  },
  {
   "cell_type": "code",
   "execution_count": 90,
   "metadata": {},
   "outputs": [],
   "source": [
    "def pred_evaluation(predictions,Y):\n",
    "    m = np.shape(Y)[1]\n",
    "    correct = np.sum(np.min((predictions==Y).astype(int),axis=0))\n",
    "    accuracy = correct/m*100\n",
    "    \n",
    "    return accuracy    "
   ]
  },
  {
   "cell_type": "markdown",
   "metadata": {},
   "source": [
    "### 3.3. Number of units in hidden layer"
   ]
  },
  {
   "cell_type": "code",
   "execution_count": 91,
   "metadata": {},
   "outputs": [
    {
     "name": "stdout",
     "output_type": "stream",
     "text": [
      "The accuracy with 2 units in hidden layer is: 45.3 % \n",
      "The accuracy with 3 units in hidden layer is: 38.4 % \n",
      "The accuracy with 4 units in hidden layer is: 56.6 % \n",
      "The accuracy with 5 units in hidden layer is: 46.9 % \n",
      "The accuracy with 6 units in hidden layer is: 39.1 % \n",
      "The accuracy with 7 units in hidden layer is: 51.2 % \n",
      "The accuracy with 8 units in hidden layer is: 43.4 % \n",
      "The accuracy with 9 units in hidden layer is: 58.4 % \n",
      "The accuracy with 10 units in hidden layer is: 34.7 % \n",
      "The accuracy with 15 units in hidden layer is: 39.4 % \n",
      "The accuracy with 20 units in hidden layer is: 54.1 % \n",
      "The best number of hidden layer units is 9.\n"
     ]
    },
    {
     "data": {
      "image/png": "[encoded data removed]",
      "text/plain": [
       "<Figure size 432x288 with 1 Axes>"
      ]
     },
     "metadata": {
      "needs_background": "light"
     },
     "output_type": "display_data"
    }
   ],
   "source": [
    "test_set = (2,3,4,5,6,7,8,9,10,15,20)\n",
    "accuracy_log = []\n",
    "max_accuracy = 0\n",
    "best_result = 0\n",
    "for i in test_set:\n",
    "    parameters = nn_model(X_train, Y_train, n_h = i, scaling_factor = 0.001, learning_rate = 0.3, num_iterations = 5000)\n",
    "    predictions = predict(parameters, X_cv)\n",
    "    accuracy = pred_evaluation(predictions,Y_cv)\n",
    "    accuracy_log.append(accuracy)\n",
    "    print(\"The accuracy with %d units in hidden layer is: %.1f %% \" %(i,accuracy))\n",
    "    if accuracy > max_accuracy:\n",
    "        max_accuracy = accuracy\n",
    "        best_result = i\n",
    "  \n",
    "plt.plot(test_set, accuracy_log)\n",
    "print(\"The best number of hidden layer units is %d.\" %best_result)"
   ]
  },
  {
   "cell_type": "markdown",
   "metadata": {},
   "source": [
    "### 3.4. Random initialization scaling factor"
   ]
  },
  {
   "cell_type": "code",
   "execution_count": 92,
   "metadata": {},
   "outputs": [
    {
     "name": "stdout",
     "output_type": "stream",
     "text": [
      "The accuracy with scaling factor 0.001 is: 17.2 % \n",
      "The accuracy with scaling factor 0.003 is: 45.9 % \n",
      "The accuracy with scaling factor 0.010 is: 41.9 % \n",
      "The accuracy with scaling factor 0.030 is: 44.7 % \n",
      "The accuracy with scaling factor 0.100 is: 55.9 % \n",
      "The accuracy with scaling factor 0.300 is: 28.1 % \n",
      "The accuracy with scaling factor 1.000 is: 53.4 % \n",
      "The best scaling factor is 0.100.\n"
     ]
    },
    {
     "data": {
      "image/png": "[encoded data removed]",
      "text/plain": [
       "<Figure size 432x288 with 1 Axes>"
      ]
     },
     "metadata": {
      "needs_background": "light"
     },
     "output_type": "display_data"
    }
   ],
   "source": [
    "test_set = (0.001,0.003,0.01,0.03,0.1,0.3,1)\n",
    "accuracy_log = []\n",
    "max_accuracy = 0\n",
    "best_result = 0\n",
    "for i in test_set:\n",
    "    parameters = nn_model(X_train, Y_train, n_h = 7, scaling_factor = i, learning_rate = 0.3, num_iterations = 5000)\n",
    "    predictions = predict(parameters, X_cv)\n",
    "    accuracy = pred_evaluation(predictions,Y_cv)\n",
    "    accuracy_log.append(accuracy)\n",
    "    print(\"The accuracy with scaling factor %.3f is: %.1f %% \" %(i,accuracy))\n",
    "    if accuracy > max_accuracy:\n",
    "        max_accuracy = accuracy\n",
    "        best_result = i\n",
    "\n",
    "plt.plot(test_set, accuracy_log)\n",
    "print(\"The best scaling factor is %.3f.\" %best_result)"
   ]
  },
  {
   "cell_type": "markdown",
   "metadata": {},
   "source": [
    "### 3.5. Learning rate"
   ]
  },
  {
   "cell_type": "code",
   "execution_count": 93,
   "metadata": {},
   "outputs": [
    {
     "name": "stdout",
     "output_type": "stream",
     "text": [
      "The accuracy with learning rate 0.03 is: 51.2 % \n",
      "The accuracy with learning rate 0.10 is: 45.0 % \n",
      "The accuracy with learning rate 0.30 is: 48.4 % \n",
      "The accuracy with learning rate 0.50 is: 55.0 % \n",
      "The accuracy with learning rate 0.70 is: 47.2 % \n",
      "The accuracy with learning rate 0.90 is: 58.1 % \n",
      "The accuracy with learning rate 1.10 is: 58.8 % \n",
      "The accuracy with learning rate 1.30 is: 45.9 % \n",
      "The accuracy with learning rate 1.50 is: 46.9 % \n",
      "The accuracy with learning rate 1.80 is: 54.1 % \n",
      "The best learning rate is 1.10.\n"
     ]
    },
    {
     "data": {
      "image/png": "[encoded data removed]",
      "text/plain": [
       "<Figure size 432x288 with 1 Axes>"
      ]
     },
     "metadata": {
      "needs_background": "light"
     },
     "output_type": "display_data"
    }
   ],
   "source": [
    "test_set = (0.03,0.1,0.3,0.5,0.7,0.9,1.1,1.3,1.5,1.8)\n",
    "accuracy_log = []\n",
    "max_accuracy = 0\n",
    "best_result = 0\n",
    "for i in test_set:\n",
    "    parameters = nn_model(X_train, Y_train, n_h = 6, scaling_factor = 0.001, learning_rate = i, num_iterations = 5000)\n",
    "    predictions = predict(parameters, X_cv)\n",
    "    accuracy = pred_evaluation(predictions,Y_cv)\n",
    "    accuracy_log.append(accuracy)\n",
    "    print(\"The accuracy with learning rate %.2f is: %.1f %% \" %(i,accuracy))\n",
    "    if accuracy > max_accuracy:\n",
    "        max_accuracy = accuracy\n",
    "        best_result = i\n",
    "\n",
    "plt.plot(test_set, accuracy_log)\n",
    "print(\"The best learning rate is %.2f.\" %best_result)"
   ]
  },
  {
   "cell_type": "markdown",
   "metadata": {},
   "source": [
    "### 3.6. Number of iterations"
   ]
  },
  {
   "cell_type": "code",
   "execution_count": 94,
   "metadata": {},
   "outputs": [
    {
     "name": "stdout",
     "output_type": "stream",
     "text": [
      "The accuracy with 1000 iterations is: 40.3 % \n",
      "The accuracy with 2000 iterations is: 39.1 % \n",
      "The accuracy with 5000 iterations is: 41.2 % \n",
      "The accuracy with 10000 iterations is: 50.0 % \n",
      "The accuracy with 20000 iterations is: 36.2 % \n",
      "The accuracy with 50000 iterations is: 51.9 % \n",
      "The best number of iterations is 50000.\n"
     ]
    },
    {
     "data": {
      "image/png": "[encoded data removed]",
      "text/plain": [
       "<Figure size 432x288 with 1 Axes>"
      ]
     },
     "metadata": {
      "needs_background": "light"
     },
     "output_type": "display_data"
    }
   ],
   "source": [
    "test_set = (1000,2000,5000,10000,20000,50000)\n",
    "accuracy_log = []\n",
    "max_accuracy = 0\n",
    "best_result = 0\n",
    "for i in test_set:\n",
    "    parameters = nn_model(X_train, Y_train, n_h = 7, scaling_factor = 0.001, learning_rate = 0.3, num_iterations = i)\n",
    "    predictions = predict(parameters, X_cv)\n",
    "    accuracy = pred_evaluation(predictions,Y_cv)\n",
    "    accuracy_log.append(accuracy)\n",
    "    print(\"The accuracy with %d iterations is: %.1f %% \" %(i,accuracy))\n",
    "    if accuracy > max_accuracy:\n",
    "        max_accuracy = accuracy\n",
    "        best_result = i\n",
    "\n",
    "plt.plot(test_set, accuracy_log)\n",
    "print(\"The best number of iterations is %d.\" %best_result)"
   ]
  },
  {
   "cell_type": "markdown",
   "metadata": {},
   "source": [
    "## 4. Predicting and Evaluation"
   ]
  },
  {
   "cell_type": "markdown",
   "metadata": {},
   "source": [
    "### 4.1. Predicting with simple linear reagression model as a baseline"
   ]
  },
  {
   "cell_type": "code",
   "execution_count": 95,
   "metadata": {},
   "outputs": [
    {
     "name": "stdout",
     "output_type": "stream",
     "text": [
      "Accuracy with training simple linear regression model is 43.4 %.\n"
     ]
    }
   ],
   "source": [
    "clf = sklearn.linear_model.LinearRegression(normalize=True,copy_X=True);\n",
    "orgX_train , orgX_test , orgY_train , orgY_test = train_test_split(X.T, Y.T, train_size = 0.8)\n",
    "clf.fit(orgX_train, orgY_train, sample_weight=None);\n",
    "pred = clf.predict(orgX_test)\n",
    "pred = pred.astype(int)\n",
    "accuracy = np.sum((pred==orgY_test).astype(int))/np.shape(pred)[0]*100\n",
    "print(\"Accuracy with training simple linear regression model is %.1f %%.\" %accuracy)"
   ]
  },
  {
   "cell_type": "markdown",
   "metadata": {},
   "source": [
    "### 4.2. Predicting with trained model"
   ]
  },
  {
   "cell_type": "code",
   "execution_count": 97,
   "metadata": {},
   "outputs": [
    {
     "name": "stdout",
     "output_type": "stream",
     "text": [
      "Cost after iteration 0: 4.186353\n",
      "Cost after iteration 1000: 1.387073\n",
      "Cost after iteration 2000: 1.337038\n",
      "Cost after iteration 3000: 1.323043\n",
      "Cost after iteration 4000: 1.315192\n",
      "Cost after iteration 5000: 1.309367\n",
      "Cost after iteration 6000: 1.303983\n",
      "Cost after iteration 7000: 1.298425\n",
      "Cost after iteration 8000: 1.293312\n",
      "Cost after iteration 9000: 1.288587\n",
      "The model accuracy is 42.5 %\n"
     ]
    }
   ],
   "source": [
    "parameters = nn_model(X_train, Y_train, n_h = 9, scaling_factor = 0.1, learning_rate = 1.1, num_iterations = 10000, print_cost=True)\n",
    "predictions = predict(parameters, X_test)\n",
    "accuracy = pred_evaluation(predictions,Y_test)\n",
    "print(\"The model accuracy is %.1f %%\" %accuracy)"
   ]
  }
 ],
 "metadata": {
  "kernelspec": {
   "display_name": "Python 3",
   "language": "python",
   "name": "python3"
  },
  "language_info": {
   "codemirror_mode": {
    "name": "ipython",
    "version": 3
   },
   "file_extension": ".py",
   "mimetype": "text/x-python",
   "name": "python",
   "nbconvert_exporter": "python",
   "pygments_lexer": "ipython3",
   "version": "3.7.6"
  }
 },
 "nbformat": 4,
 "nbformat_minor": 4
}
