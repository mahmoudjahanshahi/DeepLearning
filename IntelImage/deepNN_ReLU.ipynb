{
 "cells": [
  {
   "cell_type": "markdown",
   "metadata": {},
   "source": [
    "# Creating a Deep Neural Network"
   ]
  },
  {
   "cell_type": "markdown",
   "metadata": {},
   "source": [
    "Creating a deep neural network model. The used acitvation function is *ReLU* in hidden layers and *sigmoid* in output layer."
   ]
  },
  {
   "cell_type": "markdown",
   "metadata": {},
   "source": [
    "[**1. Initialization**](#1.-Initialization)\n",
    "\n",
    "[**2. Model Building**](#2.-Model-Building)\n",
    "\n",
    "[**3. Predicting and Evaluation**](#3.-Predicting-and-Evaluation)\n"
   ]
  },
  {
   "cell_type": "markdown",
   "metadata": {},
   "source": [
    "## 1. Initialization"
   ]
  },
  {
   "cell_type": "markdown",
   "metadata": {},
   "source": [
    "### 1.1. Package imports"
   ]
  },
  {
   "cell_type": "code",
   "execution_count": 30,
   "metadata": {},
   "outputs": [],
   "source": [
    "import numpy as np\n",
    "import glob\n",
    "import math\n",
    "from PIL import Image\n",
    "import matplotlib.image as img\n",
    "import matplotlib.pyplot as plt"
   ]
  },
  {
   "cell_type": "markdown",
   "metadata": {},
   "source": [
    "### 1.2. Loading Data"
   ]
  },
  {
   "cell_type": "markdown",
   "metadata": {},
   "source": [
    "Resizing all images to 150*150 pixels"
   ]
  },
  {
   "cell_type": "code",
   "execution_count": 31,
   "metadata": {},
   "outputs": [],
   "source": [
    "for filename in glob.glob('C:/Users/Mahmoud/JupyterLab/DeepLearning/IntelImage/src/seg_train/*/*.jpg'):\n",
    "    im = Image.open(filename)\n",
    "    if im.size != (150,150):\n",
    "        im = im.resize((150, 150), Image.ANTIALIAS)\n",
    "        im.save(filename)\n",
    "for filename in glob.glob('C:/Users/Mahmoud/JupyterLab/DeepLearning/IntelImage/src/seg_test/*/*.jpg'):\n",
    "    im = Image.open(filename)\n",
    "    if im.size != (150,150):\n",
    "        im = im.resize((150, 150), Image.ANTIALIAS)\n",
    "        im.save(filename)   "
   ]
  },
  {
   "cell_type": "markdown",
   "metadata": {},
   "source": [
    "Loading **building** images and defining relevant labels as an array of [1,0,0,0,0,0]"
   ]
  },
  {
   "cell_type": "code",
   "execution_count": 32,
   "metadata": {},
   "outputs": [
    {
     "name": "stdout",
     "output_type": "stream",
     "text": [
      "Train set shape:\n",
      "(2191, 67500)\n",
      "(2191, 6)\n",
      "\n",
      "Test set shape:\n",
      "(437, 67500)\n",
      "(437, 6)\n"
     ]
    }
   ],
   "source": [
    "buildings_train = []\n",
    "for filename in glob.glob('C:/Users/Mahmoud/JupyterLab/DeepLearning/IntelImage/src/seg_train/buildings/*.jpg'):\n",
    "    im = img.imread(filename)\n",
    "    im = np.reshape(im,(-1))\n",
    "    buildings_train.append(im)\n",
    "\n",
    "buildings_train = np.array(buildings_train)\n",
    "m_building_train = np.shape(buildings_train)[0]\n",
    "buildings_train_y = np.zeros((m_building_train,6),int)\n",
    "buildings_train_y[:,0] = 1\n",
    "\n",
    "print(\"Train set shape:\")\n",
    "print(np.shape(buildings_train))\n",
    "print(np.shape(buildings_train_y))\n",
    "\n",
    "buildings_test = []\n",
    "for filename in glob.glob('C:/Users/Mahmoud/JupyterLab/DeepLearning/IntelImage/src/seg_test/buildings/*.jpg'):\n",
    "    im = img.imread(filename)\n",
    "    im = np.reshape(im,(-1))\n",
    "    buildings_test.append(im)\n",
    "\n",
    "buildings_test = np.array(buildings_test)\n",
    "m_buildings_test = np.shape(buildings_test)[0]\n",
    "buildings_test_y = np.zeros((m_buildings_test,6),int)\n",
    "buildings_test_y[:,0] = 1\n",
    "\n",
    "print()\n",
    "print(\"Test set shape:\")\n",
    "print(np.shape(buildings_test))\n",
    "print(np.shape(buildings_test_y))"
   ]
  },
  {
   "cell_type": "markdown",
   "metadata": {},
   "source": [
    "Loading **forest** images and defining relevant labels as an array of [0,1,0,0,0,0]"
   ]
  },
  {
   "cell_type": "code",
   "execution_count": 33,
   "metadata": {},
   "outputs": [
    {
     "name": "stdout",
     "output_type": "stream",
     "text": [
      "Train set shape:\n",
      "(2271, 67500)\n",
      "(2271, 6)\n",
      "\n",
      "Train set shape:\n",
      "(474, 67500)\n",
      "(474, 6)\n"
     ]
    }
   ],
   "source": [
    "forest_train = []\n",
    "for filename in glob.glob('C:/Users/Mahmoud/JupyterLab/DeepLearning/IntelImage/src/seg_train/forest/*.jpg'):\n",
    "    im = img.imread(filename)\n",
    "    im = np.reshape(im,(-1))\n",
    "    forest_train.append(im)\n",
    "\n",
    "forest_train = np.array(forest_train)\n",
    "m_forest_train = np.shape(forest_train)[0]\n",
    "forest_train_y = np.zeros((m_forest_train,6),int)\n",
    "forest_train_y[:,1] = 1\n",
    "\n",
    "print(\"Train set shape:\")\n",
    "print(np.shape(forest_train))\n",
    "print(np.shape(forest_train_y))\n",
    "\n",
    "forest_test = []\n",
    "for filename in glob.glob('C:/Users/Mahmoud/JupyterLab/DeepLearning/IntelImage/src/seg_test/forest/*.jpg'):\n",
    "    im = img.imread(filename)\n",
    "    im = np.reshape(im,(-1))\n",
    "    forest_test.append(im)\n",
    "\n",
    "forest_test = np.array(forest_test)\n",
    "m_forest_test = np.shape(forest_test)[0]\n",
    "forest_test_y = np.zeros((m_forest_test,6),int)\n",
    "forest_test_y[:,1] = 1\n",
    "\n",
    "print()\n",
    "print(\"Train set shape:\")\n",
    "print(np.shape(forest_test))\n",
    "print(np.shape(forest_test_y))"
   ]
  },
  {
   "cell_type": "markdown",
   "metadata": {},
   "source": [
    "Loading **glacier** images and defining relevant labels as an array of [0,0,1,0,0,0]"
   ]
  },
  {
   "cell_type": "code",
   "execution_count": 34,
   "metadata": {},
   "outputs": [
    {
     "name": "stdout",
     "output_type": "stream",
     "text": [
      "Train set shape:\n",
      "(2404, 67500)\n",
      "(2404, 6)\n",
      "\n",
      "Train set shape:\n",
      "(553, 67500)\n",
      "(553, 6)\n"
     ]
    }
   ],
   "source": [
    "glacier_train = []\n",
    "for filename in glob.glob('C:/Users/Mahmoud/JupyterLab/DeepLearning/IntelImage/src/seg_train/glacier/*.jpg'):\n",
    "    im = img.imread(filename)\n",
    "    im = np.reshape(im,(-1))\n",
    "    glacier_train.append(im)\n",
    "\n",
    "glacier_train = np.array(glacier_train)\n",
    "m_glacier_train = np.shape(glacier_train)[0]\n",
    "glacier_train_y = np.zeros((m_glacier_train,6),int)\n",
    "glacier_train_y[:,2] = 1\n",
    "\n",
    "print(\"Train set shape:\")\n",
    "print(np.shape(glacier_train))\n",
    "print(np.shape(glacier_train_y))\n",
    "\n",
    "glacier_test = []\n",
    "for filename in glob.glob('C:/Users/Mahmoud/JupyterLab/DeepLearning/IntelImage/src/seg_test/glacier/*.jpg'):\n",
    "    im = img.imread(filename)\n",
    "    im = np.reshape(im,(-1))\n",
    "    glacier_test.append(im)\n",
    "\n",
    "glacier_test = np.array(glacier_test)\n",
    "m_glacier_test = np.shape(glacier_test)[0]\n",
    "glacier_test_y = np.zeros((m_glacier_test,6),int)\n",
    "glacier_test_y[:,2] = 1\n",
    "\n",
    "print()\n",
    "print(\"Train set shape:\")\n",
    "print(np.shape(glacier_test))\n",
    "print(np.shape(glacier_test_y))"
   ]
  },
  {
   "cell_type": "markdown",
   "metadata": {},
   "source": [
    "Loading **mountain** images and defining relevant labels as an array of [0,0,0,1,0,0]"
   ]
  },
  {
   "cell_type": "code",
   "execution_count": 35,
   "metadata": {},
   "outputs": [
    {
     "name": "stdout",
     "output_type": "stream",
     "text": [
      "Train set shape:\n",
      "(2512, 67500)\n",
      "(2512, 6)\n",
      "\n",
      "Train set shape:\n",
      "(525, 67500)\n",
      "(525, 6)\n"
     ]
    }
   ],
   "source": [
    "mountain_train = []\n",
    "for filename in glob.glob('C:/Users/Mahmoud/JupyterLab/DeepLearning/IntelImage/src/seg_train/mountain/*.jpg'):\n",
    "    im = img.imread(filename)\n",
    "    im = np.reshape(im,(-1))\n",
    "    mountain_train.append(im)\n",
    "\n",
    "mountain_train = np.array(mountain_train)\n",
    "m_mountain_train = np.shape(mountain_train)[0]\n",
    "mountain_train_y = np.zeros((m_mountain_train,6),int)\n",
    "mountain_train_y[:,3] = 1\n",
    "\n",
    "print(\"Train set shape:\")\n",
    "print(np.shape(mountain_train))\n",
    "print(np.shape(mountain_train_y))\n",
    "\n",
    "mountain_test = []\n",
    "for filename in glob.glob('C:/Users/Mahmoud/JupyterLab/DeepLearning/IntelImage/src/seg_test/mountain/*.jpg'):\n",
    "    im = img.imread(filename)\n",
    "    im = np.reshape(im,(-1))\n",
    "    mountain_test.append(im)\n",
    "\n",
    "mountain_test = np.array(mountain_test)\n",
    "m_mountain_test = np.shape(mountain_test)[0]\n",
    "mountain_test_y = np.zeros((m_mountain_test,6),int)\n",
    "mountain_test_y[:,3] = 1\n",
    "\n",
    "print()\n",
    "print(\"Train set shape:\")\n",
    "print(np.shape(mountain_test))\n",
    "print(np.shape(mountain_test_y))"
   ]
  },
  {
   "cell_type": "markdown",
   "metadata": {},
   "source": [
    "Loading **sea** images and defining relevant labels as an array of [0,0,0,0,1,0]"
   ]
  },
  {
   "cell_type": "code",
   "execution_count": 36,
   "metadata": {},
   "outputs": [
    {
     "name": "stdout",
     "output_type": "stream",
     "text": [
      "Train set shape:\n",
      "(2274, 67500)\n",
      "(2274, 6)\n",
      "\n",
      "Train set shape:\n",
      "(510, 67500)\n",
      "(510, 6)\n"
     ]
    }
   ],
   "source": [
    "sea_train = []\n",
    "for filename in glob.glob('C:/Users/Mahmoud/JupyterLab/DeepLearning/IntelImage/src/seg_train/sea/*.jpg'):\n",
    "    im = img.imread(filename)\n",
    "    im = np.reshape(im,(-1))\n",
    "    sea_train.append(im)\n",
    "\n",
    "sea_train = np.array(sea_train)\n",
    "m_sea_train = np.shape(sea_train)[0]\n",
    "sea_train_y = np.zeros((m_sea_train,6),int)\n",
    "sea_train_y[:,4] = 1\n",
    "\n",
    "print(\"Train set shape:\")\n",
    "print(np.shape(sea_train))\n",
    "print(np.shape(sea_train_y))\n",
    "\n",
    "sea_test = []\n",
    "for filename in glob.glob('C:/Users/Mahmoud/JupyterLab/DeepLearning/IntelImage/src/seg_test/sea/*.jpg'):\n",
    "    im = img.imread(filename)\n",
    "    im = np.reshape(im,(-1))\n",
    "    sea_test.append(im)\n",
    "\n",
    "sea_test = np.array(sea_test)\n",
    "m_sea_test = np.shape(sea_test)[0]\n",
    "sea_test_y = np.zeros((m_sea_test,6),int)\n",
    "sea_test_y[:,4] = 1\n",
    "\n",
    "print()\n",
    "print(\"Train set shape:\")\n",
    "print(np.shape(sea_test))\n",
    "print(np.shape(sea_test_y))"
   ]
  },
  {
   "cell_type": "markdown",
   "metadata": {},
   "source": [
    "Loading **street** images and defining relevant labels as an array of [0,0,0,0,0,1]"
   ]
  },
  {
   "cell_type": "code",
   "execution_count": 37,
   "metadata": {},
   "outputs": [
    {
     "name": "stdout",
     "output_type": "stream",
     "text": [
      "Train set shape:\n",
      "(2382, 67500)\n",
      "(2382, 6)\n",
      "\n",
      "Train set shape:\n",
      "(501, 67500)\n",
      "(501, 6)\n"
     ]
    }
   ],
   "source": [
    "street_train = []\n",
    "for filename in glob.glob('C:/Users/Mahmoud/JupyterLab/DeepLearning/IntelImage/src/seg_train/street/*.jpg'):\n",
    "    im = img.imread(filename)\n",
    "    im = np.reshape(im,(-1))\n",
    "    street_train.append(im)\n",
    "\n",
    "street_train = np.array(street_train)\n",
    "m_street_train = np.shape(street_train)[0]\n",
    "street_train_y = np.zeros((m_street_train,6),int)\n",
    "street_train_y[:,5] = 1\n",
    "\n",
    "print(\"Train set shape:\")\n",
    "print(np.shape(street_train))\n",
    "print(np.shape(street_train_y))\n",
    "\n",
    "street_test = []\n",
    "for filename in glob.glob('C:/Users/Mahmoud/JupyterLab/DeepLearning/IntelImage/src/seg_test/street/*.jpg'):\n",
    "    im = img.imread(filename)\n",
    "    im = np.reshape(im,(-1))\n",
    "    street_test.append(im)\n",
    "\n",
    "street_test = np.array(street_test)\n",
    "m_street_test = np.shape(street_test)[0]\n",
    "street_test_y = np.zeros((m_street_test,6),int)\n",
    "street_test_y[:,5] = 1\n",
    "\n",
    "print()\n",
    "print(\"Train set shape:\")\n",
    "print(np.shape(street_test))\n",
    "print(np.shape(street_test_y))"
   ]
  },
  {
   "cell_type": "markdown",
   "metadata": {},
   "source": [
    "Concatenating all data to build X and Y both for train and test datasets."
   ]
  },
  {
   "cell_type": "code",
   "execution_count": 38,
   "metadata": {},
   "outputs": [
    {
     "name": "stdout",
     "output_type": "stream",
     "text": [
      "Shape of train data set:\n",
      "(67500, 14034)\n",
      "(6, 14034)\n",
      "\n",
      "Shape of test data set:\n",
      "(67500, 3000)\n",
      "(6, 3000)\n"
     ]
    }
   ],
   "source": [
    "X_train = np.concatenate((buildings_train, forest_train, glacier_train, mountain_train, sea_train, street_train)).T\n",
    "X_test = np.concatenate((buildings_test, forest_test, glacier_test, mountain_test, sea_test, street_test)).T\n",
    "\n",
    "Y_train = np.concatenate((buildings_train_y, forest_train_y, glacier_train_y, mountain_train_y, sea_train_y, street_train_y)).T\n",
    "Y_test = np.concatenate((buildings_test_y, forest_test_y, glacier_test_y, mountain_test_y, sea_test_y, street_test_y)).T\n",
    "\n",
    "print(\"Shape of train data set:\")\n",
    "print(np.shape(X_train))\n",
    "print(np.shape(Y_train))\n",
    "print()\n",
    "print(\"Shape of test data set:\")\n",
    "print(np.shape(X_test))\n",
    "print(np.shape(Y_test))"
   ]
  },
  {
   "cell_type": "markdown",
   "metadata": {},
   "source": [
    "Loading a sample image to make sure data is alright."
   ]
  },
  {
   "cell_type": "code",
   "execution_count": 39,
   "metadata": {},
   "outputs": [
    {
     "name": "stdout",
     "output_type": "stream",
     "text": [
      "The corresponding label is:\n",
      "[0 0 0 0 1 0]\n",
      "\n"
     ]
    },
    {
     "data": {
      "text/plain": [
       "<matplotlib.image.AxesImage at 0x1dc1754cc10>"
      ]
     },
     "execution_count": 39,
     "metadata": {},
     "output_type": "execute_result"
    },
    {
     "data": {
      "image/png": "[encoded data removed]",
      "text/plain": [
       "<Figure size 432x288 with 1 Axes>"
      ]
     },
     "metadata": {
      "needs_background": "light"
     },
     "output_type": "display_data"
    }
   ],
   "source": [
    "number = 10948\n",
    "sample = np.reshape(X_train[:,number],(150,150,3))\n",
    "print(\"The corresponding label is:\")\n",
    "print(Y_train[:,number])\n",
    "print()\n",
    "plt.imshow(sample)"
   ]
  },
  {
   "cell_type": "markdown",
   "metadata": {},
   "source": [
    "Selecting a smaller set, so it can be trained faster on my PC!"
   ]
  },
  {
   "cell_type": "code",
   "execution_count": 40,
   "metadata": {},
   "outputs": [
    {
     "name": "stdout",
     "output_type": "stream",
     "text": [
      "Shape of train data set:\n",
      "(67500, 6000)\n",
      "(6, 6000)\n"
     ]
    }
   ],
   "source": [
    "rand = np.random.randint(0,14034,6000)\n",
    "X_train = X_train[:,rand]\n",
    "Y_train = Y_train[:,rand]\n",
    "print(\"Shape of train data set:\")\n",
    "print(np.shape(X_train))\n",
    "print(np.shape(Y_train))"
   ]
  },
  {
   "cell_type": "markdown",
   "metadata": {},
   "source": [
    "**Creating a list of random minibatches from (X, Y) for Mini-Batch Gradient descent**\n",
    "\n",
    "**Inputs** :  \n",
    "*X*: input data, of shape (input size, number of examples)  \n",
    "*Y*: true \"label\" vector of shape (6, number of examples)  \n",
    "*mini_batch_size*: size of the mini-batches, integer\n",
    "\n",
    "**Outputs** :  \n",
    "*mini_batches*: list of synchronous (mini_batch_X, mini_batch_Y)"
   ]
  },
  {
   "cell_type": "code",
   "execution_count": 41,
   "metadata": {},
   "outputs": [],
   "source": [
    "def random_mini_batches(X, Y, mini_batch_size = 64, seed = 0):\n",
    "\n",
    "    np.random.seed(seed)\n",
    "    m = X.shape[1]\n",
    "    mini_batches = []\n",
    "\n",
    "    permutation = list(np.random.permutation(m))\n",
    "    shuffled_X = X[:, permutation]\n",
    "    shuffled_Y = Y[:, permutation] ##.reshape((1,m))\n",
    "\n",
    "    num_complete_minibatches = math.floor(m/mini_batch_size)\n",
    "    for k in range(0, num_complete_minibatches):\n",
    "        mini_batch_X = shuffled_X[:, k * mini_batch_size : (k+1) * mini_batch_size]\n",
    "        mini_batch_Y = shuffled_Y[:, k * mini_batch_size : (k+1) * mini_batch_size]\n",
    "        mini_batch = (mini_batch_X, mini_batch_Y)\n",
    "        mini_batches.append(mini_batch)\n",
    "    \n",
    "    if m % mini_batch_size != 0:\n",
    "        mini_batch_X = shuffled_X[:, num_complete_minibatches * mini_batch_size :]\n",
    "        mini_batch_Y = shuffled_Y[:, num_complete_minibatches * mini_batch_size :]\n",
    "        mini_batch = (mini_batch_X, mini_batch_Y)\n",
    "        mini_batches.append(mini_batch)\n",
    "    \n",
    "    return mini_batches"
   ]
  },
  {
   "cell_type": "markdown",
   "metadata": {},
   "source": [
    "### 1.3. Normalization function"
   ]
  },
  {
   "cell_type": "markdown",
   "metadata": {},
   "source": [
    "Normalizing any given set.\n",
    "\n",
    "**Inputs** :  \n",
    "*X*: 2D array\n",
    "\n",
    "**Outputs** :  \n",
    "*X_norm*: normalized X  \n",
    "*mean*: mean of every feature (row)  \n",
    "*std*: std of every feature (row)"
   ]
  },
  {
   "cell_type": "code",
   "execution_count": 42,
   "metadata": {},
   "outputs": [],
   "source": [
    "def normalize(X):\n",
    "    \n",
    "    mean = np.mean(X,axis=1)\n",
    "    mean = np.reshape(mean,(np.shape(mean)[0],1))\n",
    "    std = np.std(X,axis=1)\n",
    "    std = np.reshape(std,(np.shape(std)[0],1))\n",
    "    \n",
    "    X_norm = (X-mean)/std\n",
    "    \n",
    "    return X_norm , mean, std"
   ]
  },
  {
   "cell_type": "markdown",
   "metadata": {},
   "source": [
    "## 2. Model Building"
   ]
  },
  {
   "cell_type": "markdown",
   "metadata": {},
   "source": [
    "### 2.1. Initializing the model"
   ]
  },
  {
   "cell_type": "markdown",
   "metadata": {},
   "source": [
    "**Initializing the model's parameters** (He Initialization)\n",
    "\n",
    "**Inputs** :  \n",
    "*layers_dims*: python array (list) containing the dimensions of each layer in the network\n",
    "\n",
    "**Outputs** (python dictionary):  \n",
    "*Wl*: weight matrix of shape (layers_dims[l], layers_dims[l-1])  \n",
    "*bl*: bias vector of shape (layers_dims[l], 1)"
   ]
  },
  {
   "cell_type": "code",
   "execution_count": 43,
   "metadata": {},
   "outputs": [],
   "source": [
    "def initialize_parameters(layers_dims):\n",
    "\n",
    "    np.random.seed(1)\n",
    "    parameters = {}\n",
    "    L = len(layers_dims) - 1\n",
    "\n",
    "    for l in range(1, L+1):\n",
    "        parameters[\"W\" + str(l)] = np.random.randn(layers_dims[l],layers_dims[l-1])*np.sqrt(2./layers_dims[l-1])\n",
    "        parameters[\"b\" + str(l)] = np.zeros((layers_dims[l],1))\n",
    "        \n",
    "        assert(parameters[\"W\" + str(l)].shape == (layers_dims[l], layers_dims[l-1]))\n",
    "        assert(parameters[\"b\" + str(l)].shape == (layers_dims[l], 1))\n",
    "\n",
    "        \n",
    "    return parameters"
   ]
  },
  {
   "cell_type": "markdown",
   "metadata": {},
   "source": [
    "**Initializing the Adam optimization variables**\n",
    "\n",
    "**Inputs** :  \n",
    "*parameters*: python dictionary containing parameters.\n",
    "\n",
    "**Outputs** :  \n",
    "*v*: python dictionary that will contain the exponentially weighted average of the gradient.  \n",
    "*s*: python dictionary that will contain the exponentially weighted average of the squared gradient."
   ]
  },
  {
   "cell_type": "code",
   "execution_count": 44,
   "metadata": {},
   "outputs": [],
   "source": [
    "def initialize_adam(parameters) :\n",
    "    \n",
    "    L = len(layers_dims) - 1\n",
    "    v = {}\n",
    "    s = {}\n",
    "    \n",
    "    for l in range(L):\n",
    "        v[\"dW\" + str(l+1)] = np.zeros(np.shape(parameters[\"W\" + str(l+1)]))\n",
    "        v[\"db\" + str(l+1)] = np.zeros(np.shape(parameters[\"b\" + str(l+1)]))\n",
    "        s[\"dW\" + str(l+1)] = np.zeros(np.shape(parameters[\"W\" + str(l+1)]))\n",
    "        s[\"db\" + str(l+1)] = np.zeros(np.shape(parameters[\"b\" + str(l+1)]))\n",
    "    \n",
    "    return v, s"
   ]
  },
  {
   "cell_type": "markdown",
   "metadata": {},
   "source": [
    "**Implementing the sigmoid activation in numpy**\n",
    "\n",
    "**Inputs** :  \n",
    "*Z*: numpy array of any shape\n",
    "\n",
    "**Outputs** :  \n",
    "*A*: output of sigmoid(z), same shape as Z  \n",
    "*cache*: returns Z as well (useful during backpropagation)"
   ]
  },
  {
   "cell_type": "code",
   "execution_count": 45,
   "metadata": {},
   "outputs": [],
   "source": [
    "def sigmoid(Z):\n",
    "    \n",
    "    A = 1./(1.+np.exp(-Z))\n",
    "    A = np.minimum(A, 1 - 1e-10)\n",
    "    A = np.maximum(A, 1e-10)  \n",
    "    cache = Z\n",
    "    \n",
    "    return A, cache"
   ]
  },
  {
   "cell_type": "markdown",
   "metadata": {},
   "source": [
    "**Implementing the backward propagation for a single SIGMOID unit**\n",
    "\n",
    "**Inputs** :  \n",
    "*dA*: post-activation gradient, of any shape  \n",
    "*cache*: 'Z' where I store for computing backward propagation efficiently\n",
    "\n",
    "**Outputs** :  \n",
    "*dZ*: Gradient of the cost with respect to Z"
   ]
  },
  {
   "cell_type": "code",
   "execution_count": 46,
   "metadata": {},
   "outputs": [],
   "source": [
    "def sigmoid_backward(dA, cache):\n",
    "\n",
    "    Z = cache\n",
    "    \n",
    "    s = 1./(1.+np.exp(-Z))\n",
    "    s = np.minimum(s, 1 - 1e-10)\n",
    "    s = np.maximum(s, 1e-10)  \n",
    "    dZ = dA * s * (1.-s)\n",
    "    \n",
    "    assert (dZ.shape == Z.shape)\n",
    "    \n",
    "    return dZ"
   ]
  },
  {
   "cell_type": "markdown",
   "metadata": {},
   "source": [
    "**Implementing the ReLU function**\n",
    "\n",
    "**Inputs** :  \n",
    "*Z*: Output of the linear layer, of any shape\n",
    "\n",
    "**Outputs** :  \n",
    "*A*: Post-activation parameter, of the same shape as Z  \n",
    "*cache*: a python dictionary containing \"A\" (stored for computing the backward pass efficiently)"
   ]
  },
  {
   "cell_type": "code",
   "execution_count": 47,
   "metadata": {},
   "outputs": [],
   "source": [
    "def relu(Z):\n",
    "    \n",
    "    A = np.maximum(0,Z)\n",
    "    cache = Z\n",
    "    \n",
    "    assert(A.shape == Z.shape)\n",
    "    \n",
    "    return A, cache"
   ]
  },
  {
   "cell_type": "markdown",
   "metadata": {},
   "source": [
    "**Implementing the backward propagation for a single ReLU unit**\n",
    "\n",
    "**Inputs** :  \n",
    "*dA*: post-activation gradient, of any shape  \n",
    "*cache*: 'Z' where I store for computing backward propagation efficiently\n",
    "\n",
    "**Outputs** :  \n",
    "*dZ*: Gradient of the cost with respect to Z"
   ]
  },
  {
   "cell_type": "code",
   "execution_count": 48,
   "metadata": {},
   "outputs": [],
   "source": [
    "def relu_backward(dA, cache):\n",
    "\n",
    "    Z = cache\n",
    "    dZ = np.array(dA, copy=True)\n",
    "    \n",
    "    dZ[Z <= 0] = 0\n",
    "    \n",
    "    assert (dZ.shape == Z.shape)\n",
    "    \n",
    "    return dZ"
   ]
  },
  {
   "cell_type": "markdown",
   "metadata": {},
   "source": [
    "### 2.2. Forward propagation module"
   ]
  },
  {
   "cell_type": "markdown",
   "metadata": {},
   "source": [
    "**Implementing the linear part of a layer's forward propagation**\n",
    "\n",
    "**Inputs** :  \n",
    "*A*: activations from previous layer (or input data): (size of previous layer, number of examples)  \n",
    "*W*: weights matrix: numpy array of shape (size of current layer, size of previous layer)  \n",
    "*b*: bias vector, numpy array of shape (size of the current layer, 1)\n",
    "\n",
    "**Outputs** :  \n",
    "*Z*: the input of the activation function (AKA pre-activation parameter)  \n",
    "*cache*: a python tuple containing \"A\", \"W\" and \"b\" ; stored for computing the backward pass efficiently"
   ]
  },
  {
   "cell_type": "code",
   "execution_count": 49,
   "metadata": {},
   "outputs": [],
   "source": [
    "def linear_forward(A, W, b):\n",
    "\n",
    "    Z = np.dot(W,A)+b\n",
    "    \n",
    "    assert(Z.shape == (W.shape[0], A.shape[1]))\n",
    "    cache = (A, W, b)\n",
    "\n",
    "    return Z, cache"
   ]
  },
  {
   "cell_type": "markdown",
   "metadata": {},
   "source": [
    "**Implementing the forward propagation for the LINEAR->ACTIVATION layer**\n",
    "\n",
    "**Inputs** :  \n",
    "*A_prev*: activations from previous layer (or input data): (size of previous layer, number of examples)  \n",
    "*W*: weights matrix: numpy array of shape (size of current layer, size of previous layer)  \n",
    "*b*: bias vector, numpy array of shape (size of the current layer, 1)  \n",
    "*activation*: the activation to be used in this layer, stored as a text string: \"sigmoid\" or \"relu\"\n",
    "\n",
    "**Returns** :  \n",
    "*A*: the output of the activation function (AKA the post-activation value)  \n",
    "*cache*: a python tuple containing \"linear_cache\" and \"activation_cache\" stored for computing the backward pass efficiently"
   ]
  },
  {
   "cell_type": "code",
   "execution_count": 50,
   "metadata": {},
   "outputs": [],
   "source": [
    "def linear_activation_forward(A_prev, W, b, activation):\n",
    "    \n",
    "    if activation == \"sigmoid\":\n",
    "        Z, linear_cache = linear_forward(A_prev, W, b)\n",
    "        A, activation_cache = sigmoid(Z)\n",
    "    \n",
    "    elif activation == \"relu\":\n",
    "        Z, linear_cache = linear_forward(A_prev, W, b)\n",
    "        A, activation_cache = relu(Z)\n",
    "    \n",
    "    assert (A.shape == (W.shape[0], A_prev.shape[1]))\n",
    "    cache = (linear_cache, activation_cache)\n",
    "\n",
    "    return A, cache"
   ]
  },
  {
   "cell_type": "markdown",
   "metadata": {},
   "source": [
    "**Implement forward propagation for the [LINEAR->RELU]*(L-1)->LINEAR->SIGMOID computation**\n",
    "\n",
    "**Inputs** :  \n",
    "*X*: data, numpy array of shape (input size, number of examples)  \n",
    "*parameters*: output of initialize_parameters()\n",
    "\n",
    "**Outputs** :  \n",
    "*AL*: last post-activation value  \n",
    "*caches*: list of caches containing every cache of linear_activation_forward() (there are L-1 of them, indexed from 0 to L-1)"
   ]
  },
  {
   "cell_type": "code",
   "execution_count": 51,
   "metadata": {},
   "outputs": [],
   "source": [
    "def L_model_forward(X, parameters):\n",
    "\n",
    "    caches = []\n",
    "    A = X\n",
    "    L = len(parameters) // 2\n",
    "    \n",
    "    for l in range(1, L):\n",
    "        A_prev = A\n",
    "        A, cache = linear_activation_forward(A_prev, parameters[\"W\" + str(l)], parameters[\"b\" + str(l)], activation = \"relu\")\n",
    "        caches.append(cache)\n",
    "    \n",
    "    AL, cache = linear_activation_forward(A, parameters[\"W\" + str(L)], parameters[\"b\" + str(L)], activation = \"sigmoid\")\n",
    "    caches.append(cache)\n",
    "    \n",
    "    assert(AL.shape == (layers_dims[-1],X.shape[1]))\n",
    "    \n",
    "    return AL, caches"
   ]
  },
  {
   "cell_type": "markdown",
   "metadata": {},
   "source": [
    "### 2.3. Cost function"
   ]
  },
  {
   "cell_type": "markdown",
   "metadata": {},
   "source": [
    "**Implement the cost function**\n",
    "\n",
    "**Inputs** :  \n",
    "*AL*: probability vector corresponding to the label predictions, shape (number of classes (6), number of examples)  \n",
    "*Y*: true \"label\" vector, shape (number of classes (6), number of examples)  \n",
    "*layers_dims*: list containing the input size and each layer size, of length (number of layers + 1)  \n",
    "*parameters*: python dictionary containing parameters \"Wl\", \"bl\"  \n",
    "*lambd*: regularization parameter  \n",
    "\n",
    "**Outputs** :  \n",
    "*cost*: cross-entropy plus L2-regularization cost"
   ]
  },
  {
   "cell_type": "code",
   "execution_count": 52,
   "metadata": {},
   "outputs": [],
   "source": [
    "def compute_cost(AL, Y , layers_dims, parameters, lambd):\n",
    "\n",
    "    m = Y.shape[1]\n",
    "    L = len(layers_dims) - 1\n",
    "\n",
    "    cross_entropy_cost = (-1./m)*np.sum(Y*np.log(AL)+(1-Y)*np.log(1-AL))\n",
    "    cross_entropy_cost = np.squeeze(cross_entropy_cost)\n",
    "    \n",
    "    L2_regularization_cost = 0\n",
    "    for l in range(1, L+1):\n",
    "        L2_regularization_cost += np.sum(np.square(parameters[\"W\" + str(l)]))\n",
    "    \n",
    "    L2_regularization_cost = (lambd/(2*m))*L2_regularization_cost\n",
    "    \n",
    "    cost = cross_entropy_cost + L2_regularization_cost\n",
    "    assert(cost.shape == ())\n",
    "    \n",
    "    return cost"
   ]
  },
  {
   "cell_type": "markdown",
   "metadata": {},
   "source": [
    "### 2.4. Backward propagation module"
   ]
  },
  {
   "cell_type": "markdown",
   "metadata": {},
   "source": [
    "**Implementing the linear portion of backward propagation for a single layer (layer l)**\n",
    "\n",
    "**Inputs** :  \n",
    "*dZ*: Gradient of the cost with respect to the linear output (of current layer l)  \n",
    "*cache*: tuple of values (A_prev, W, b) coming from the forward propagation in the current layer  \n",
    "*lambd*: regularization parameter  \n",
    "\n",
    "**Outputs** :  \n",
    "*dA_prev*: Gradient of the cost with respect to the activation (of the previous layer l-1), same shape as A_prev  \n",
    "*dW*: Gradient of the cost with respect to W (current layer l), same shape as W  \n",
    "*db*: Gradient of the cost with respect to b (current layer l), same shape as b"
   ]
  },
  {
   "cell_type": "code",
   "execution_count": 53,
   "metadata": {},
   "outputs": [],
   "source": [
    "def linear_backward(dZ, cache, lambd):\n",
    "\n",
    "    A_prev, W, b = cache\n",
    "    m = A_prev.shape[1]\n",
    "\n",
    "    dW = (1./m)*np.dot(dZ,A_prev.T) + (lambd*W/m)\n",
    "    db = (1./m)*np.sum(dZ,axis=1)\n",
    "    db = np.reshape(db,(np.shape(db)[0],1))\n",
    "    dA_prev = np.dot(W.T,dZ)\n",
    "    \n",
    "    assert (dA_prev.shape == A_prev.shape)\n",
    "    assert (dW.shape == W.shape)\n",
    "    assert (db.shape == b.shape)\n",
    "    \n",
    "    return dA_prev, dW, db"
   ]
  },
  {
   "cell_type": "markdown",
   "metadata": {},
   "source": [
    "**Implementing the backward propagation for the LINEAR->ACTIVATION layer**\n",
    "\n",
    "**Inputs** :  \n",
    "*dA*: post-activation gradient for current layer l  \n",
    "*cache*: tuple of values (linear_cache, activation_cache)  \n",
    "*activation*: the activation to be used in this layer, stored as a text string: \"sigmoid\" or \"relu\"  \n",
    "*lambd*: regularization parameter  \n",
    "\n",
    "**Outputs** :  \n",
    "*dA_prev*: Gradient of the cost with respect to the activation (of the previous layer l-1), same shape as A_prev  \n",
    "*dW*: Gradient of the cost with respect to W (current layer l), same shape as W  \n",
    "*db*: Gradient of the cost with respect to b (current layer l), same shape as b"
   ]
  },
  {
   "cell_type": "code",
   "execution_count": 54,
   "metadata": {},
   "outputs": [],
   "source": [
    "def linear_activation_backward(dA, cache, activation, lambd):\n",
    "\n",
    "    linear_cache, activation_cache = cache\n",
    "    \n",
    "    if activation == \"relu\":\n",
    "        dZ = relu_backward(dA, activation_cache)\n",
    "        dA_prev, dW, db = linear_backward(dZ, linear_cache, lambd)\n",
    "        \n",
    "    elif activation == \"sigmoid\":\n",
    "        dZ = sigmoid_backward(dA, activation_cache)\n",
    "        dA_prev, dW, db = linear_backward(dZ, linear_cache, lambd)\n",
    "    \n",
    "    return dA_prev, dW, db"
   ]
  },
  {
   "cell_type": "markdown",
   "metadata": {},
   "source": [
    "**Implementing the backward propagation for the [LINEAR->RELU] * (L-1) -> LINEAR -> SIGMOID group**\n",
    "\n",
    "**Inputs** :  \n",
    "*AL*: probability vector, output of the forward propagation (L_model_forward())  \n",
    "*Y*: true \"label\" vector  \n",
    "*caches*: list of caches containing every cache of linear_activation_forward() with \"relu\" (it's caches[l], for l in range(L-1) i.e l = 0...L-2) and the cache of linear_activation_forward() with \"sigmoid\" (it's caches[L-1])  \n",
    "*lambd*: regularization parameter  \n",
    "\n",
    "**Outputs** :  \n",
    "*grads*: A dictionary with the gradients"
   ]
  },
  {
   "cell_type": "code",
   "execution_count": 55,
   "metadata": {},
   "outputs": [],
   "source": [
    "def L_model_backward(AL, Y, caches, lambd):\n",
    "\n",
    "    grads = {}\n",
    "    L = len(caches)\n",
    "    m = AL.shape[1]\n",
    "    Y = Y.reshape(AL.shape)\n",
    "    \n",
    "    dAL = - (np.divide(Y, AL) - np.divide(1 - Y, 1 - AL))\n",
    "\n",
    "    current_cache = caches[L-1]\n",
    "    grads[\"dA\" + str(L-1)], grads[\"dW\" + str(L)], grads[\"db\" + str(L)] = linear_activation_backward(dAL, current_cache, \"sigmoid\", lambd)\n",
    "    \n",
    "    for l in reversed(range(L-1)):\n",
    "        current_cache = caches[l]\n",
    "        dA_prev_temp, dW_temp, db_temp = linear_activation_backward(grads[\"dA\" + str(l + 1)], current_cache, \"relu\", lambd)\n",
    "        grads[\"dA\" + str(l)] = dA_prev_temp\n",
    "        grads[\"dW\" + str(l + 1)] = dW_temp\n",
    "        grads[\"db\" + str(l + 1)] = db_temp\n",
    "\n",
    "    return grads"
   ]
  },
  {
   "cell_type": "markdown",
   "metadata": {},
   "source": [
    "**Updating parameters using gradient descent**\n",
    "\n",
    "**Inputs** :  \n",
    "*parameters*: python dictionary containing parameters  \n",
    "*grads*: python dictionary containing gradients, output of L_model_backward  \n",
    "*learning_rate*: the gradient descent learning rate\n",
    "\n",
    "**Outputs** :  \n",
    "*parameters*: python dictionary containing updated parameters"
   ]
  },
  {
   "cell_type": "code",
   "execution_count": 56,
   "metadata": {},
   "outputs": [],
   "source": [
    "def update_parameters(parameters, grads, learning_rate):\n",
    "    \n",
    "    L = len(parameters) // 2 \n",
    "\n",
    "    for l in range(L):\n",
    "        parameters[\"W\" + str(l+1)] = parameters[\"W\" + str(l+1)] - learning_rate*grads[\"dW\" + str(l + 1)]\n",
    "        parameters[\"b\" + str(l+1)] = parameters[\"b\" + str(l+1)] - learning_rate*grads[\"db\" + str(l + 1)]\n",
    "\n",
    "    return parameters"
   ]
  },
  {
   "cell_type": "markdown",
   "metadata": {},
   "source": [
    "**Updating parameters using Adam optimization**\n",
    "\n",
    "**Inputs** :  \n",
    "*parameters*: python dictionary containing parameters W and b  \n",
    "*grads*: python dictionary containing gradients for each parameters dW db  \n",
    "*v*: Adam variable, moving average of the first gradient, python dictionary  \n",
    "*s*: Adam variable, moving average of the squared gradient, python dictionary  \n",
    "*t*: counter for bias correction parameter in exponentially weighted average    \n",
    "*learning_rate*: the learning rate, scalar  \n",
    "*beta1*: Exponential decay hyperparameter for the first moment estimates  \n",
    "*beta2*: Exponential decay hyperparameter for the second moment estimates  \n",
    "*epsilon*: hyperparameter preventing division by zero in Adam updates\n",
    "\n",
    "**Outputs** :  \n",
    "*parameters*: python dictionary containing your updated parameters  \n",
    "*v*: Adam variable, moving average of the first gradient, python dictionary  \n",
    "*s*: Adam variable, moving average of the squared gradient, python dictionary"
   ]
  },
  {
   "cell_type": "code",
   "execution_count": 57,
   "metadata": {},
   "outputs": [],
   "source": [
    "def update_parameters_with_adam(parameters, grads, v, s, t, learning_rate, beta1 = 0.9, beta2 = 0.999, epsilon = 1e-8):\n",
    "    \n",
    "    L = len(parameters) // 2\n",
    "    v_corrected = {}\n",
    "    s_corrected = {}\n",
    "    \n",
    "    for l in range(L):\n",
    "        v[\"dW\" + str(l+1)] = beta1 * v[\"dW\" + str(l+1)] + (1-beta1) * grads[\"dW\" + str(l+1)]\n",
    "        v[\"db\" + str(l+1)] = beta1 * v[\"db\" + str(l+1)] + (1-beta1) * grads[\"db\" + str(l+1)]\n",
    "\n",
    "        v_corrected[\"dW\" + str(l+1)] = v[\"dW\" + str(l+1)]/(1-(beta1**t))\n",
    "        v_corrected[\"db\" + str(l+1)] = v[\"db\" + str(l+1)]/(1-(beta1**t))\n",
    "\n",
    "        s[\"dW\" + str(l+1)] = beta2 * s[\"dW\" + str(l+1)] + (1-beta2) * (grads[\"dW\" + str(l+1)]**2)\n",
    "        s[\"db\" + str(l+1)] = beta2 * s[\"db\" + str(l+1)] + (1-beta2) * (grads[\"db\" + str(l+1)]**2)\n",
    "\n",
    "        s_corrected[\"dW\" + str(l+1)] = s[\"dW\" + str(l+1)]/(1-(beta2**t))\n",
    "        s_corrected[\"db\" + str(l+1)] = s[\"db\" + str(l+1)]/(1-(beta2**t))\n",
    "\n",
    "        parameters[\"W\" + str(l+1)] = parameters[\"W\" + str(l+1)] - learning_rate * \\\n",
    "                                     (v_corrected[\"dW\" + str(l+1)]/(np.sqrt(s_corrected[\"dW\" + str(l+1)])+epsilon))\n",
    "        parameters[\"b\" + str(l+1)] = parameters[\"b\" + str(l+1)] - learning_rate * \\\n",
    "                                     (v_corrected[\"db\" + str(l+1)]/(np.sqrt(s_corrected[\"db\" + str(l+1)])+epsilon))\n",
    "\n",
    "    return parameters, v, s"
   ]
  },
  {
   "cell_type": "markdown",
   "metadata": {},
   "source": [
    "### 2.5. Gradient checking"
   ]
  },
  {
   "cell_type": "markdown",
   "metadata": {},
   "source": [
    "Checking if backward propagation computes correctly the gradient of the cost output by forward propagation\n",
    "\n",
    "**Inputs** :  \n",
    "*X*: input data  \n",
    "*Y*: true \"label\"  \n",
    "*layers_dims*: list containing the input size and each layer size, of length (number of layers + 1)  \n",
    "*lambd*: regularization parameter  \n",
    "*learning_rate*: learning rate of the gradient descent update rule  \n",
    "*num_iterations*: number of iterations of the optimization loop  \n",
    "*epsilon*: tiny shift to the input to compute approximated gradient\n",
    "\n",
    "**Outputs** :  \n",
    "*difference*: difference between the approximated gradient and the backward propagation gradient"
   ]
  },
  {
   "cell_type": "code",
   "execution_count": 58,
   "metadata": {},
   "outputs": [],
   "source": [
    "def gradient_check(X, Y, layers_dims, lambd = 0.1, learning_rate = 0.009, num_iterations = 20, epsilon = 1e-7):\n",
    "    \n",
    "    nparameters = initialize_parameters(layers_dims)\n",
    "    for i in range(num_iterations):\n",
    "        parameters = nparameters.copy()\n",
    "        AL, caches = L_model_forward(X, nparameters)\n",
    "        grads = L_model_backward(AL, Y, caches, lambd)\n",
    "        nparameters = update_parameters(nparameters, grads, learning_rate)\n",
    "    \n",
    "    L = len(parameters) // 2 \n",
    "    parameter_values = np.empty((0,1))\n",
    "    grad_values = np.empty((0,1))\n",
    "    for l in range(L):\n",
    "        new_vector = np.reshape(parameters[\"W\" + str(l+1)], (-1,1))\n",
    "        parameter_values = np.concatenate((parameter_values, new_vector), axis=0)\n",
    "        new_vector = np.reshape(parameters[\"b\" + str(l+1)], (-1,1))\n",
    "        parameter_values = np.concatenate((parameter_values, new_vector), axis=0)\n",
    "        new_vector = np.reshape(grads[\"dW\" + str(l + 1)], (-1,1))\n",
    "        grad_values = np.concatenate((grad_values, new_vector), axis=0)\n",
    "        new_vector = np.reshape(grads[\"db\" + str(l + 1)], (-1,1))\n",
    "        grad_values = np.concatenate((grad_values, new_vector), axis=0)\n",
    "        \n",
    "    num_parameters = parameter_values.shape[0]\n",
    "    J_plus = np.zeros((num_parameters, 1))\n",
    "    J_minus = np.zeros((num_parameters, 1))\n",
    "    gradapprox = np.zeros((num_parameters, 1))\n",
    "\n",
    "    for i in range(num_parameters):\n",
    "        thetaplus =  np.copy(parameter_values)\n",
    "        thetaplus[i] = thetaplus[i] + epsilon\n",
    "        parametersplus = {}\n",
    "        count = 0\n",
    "        for l in range(1, L+1):\n",
    "            parametersplus[\"W\" + str(l)] = thetaplus[count:count + layers_dims[l]*layers_dims[l-1]].reshape((layers_dims[l],layers_dims[l-1]))\n",
    "            count += layers_dims[l]*layers_dims[l-1]\n",
    "            parametersplus[\"b\" + str(l)] = thetaplus[count:count + layers_dims[l]].reshape((layers_dims[l],1))\n",
    "            count += layers_dims[l]\n",
    "        AL, _ = L_model_forward(X, parametersplus)\n",
    "        J_plus[i] = compute_cost(AL, Y , layers_dims, parametersplus, lambd)\n",
    "\n",
    "        thetaminus =  np.copy(parameter_values)\n",
    "        thetaminus[i] = thetaminus[i] - epsilon\n",
    "        parametersminus = {}\n",
    "        count = 0\n",
    "        for l in range(1, L+1):\n",
    "            parametersminus[\"W\" + str(l)] = thetaminus[count:count + layers_dims[l]*layers_dims[l-1]].reshape((layers_dims[l],layers_dims[l-1]))\n",
    "            count += layers_dims[l]*layers_dims[l-1]\n",
    "            parametersminus[\"b\" + str(l)] = thetaminus[count:count + layers_dims[l]].reshape((layers_dims[l],1))\n",
    "            count += layers_dims[l]\n",
    "        AL, _ = L_model_forward(X, parametersminus)\n",
    "        J_minus[i] = compute_cost(AL, Y , layers_dims, parametersminus, lambd)\n",
    "\n",
    "        gradapprox[i] = (J_plus[i]-J_minus[i])/(2*epsilon)\n",
    "        if abs(gradapprox[i]-grad_values[i]) > 1e-1:\n",
    "            print(i)\n",
    "            \n",
    "    numerator = np.linalg.norm(grad_values[i]-gradapprox[i])\n",
    "    denominator = np.linalg.norm(grad_values[i]) + np.linalg.norm(gradapprox[i])\n",
    "    difference = numerator/denominator\n",
    "    \n",
    "    \n",
    "    \n",
    "    if difference > 2e-7:\n",
    "        print (\"\\033[93m\" + \"There is a mistake in the backward propagation! difference = \" + str(difference) + \"\\033[0m\")\n",
    "    else:\n",
    "        print (\"\\033[92m\" + \"Backward propagation works perfectly fine! difference = \" + str(difference) + \"\\033[0m\")\n",
    "    \n",
    "    return difference"
   ]
  },
  {
   "cell_type": "markdown",
   "metadata": {},
   "source": [
    "### 2.6. L-layer neural network model"
   ]
  },
  {
   "cell_type": "markdown",
   "metadata": {},
   "source": [
    "**Implementing a L-layer neural network: [LINEAR->RELU]*(L-1)->LINEAR->SIGMOID.**\n",
    "\n",
    "**Inputs** :  \n",
    "*X*: data, numpy array of shape (num_px * num_px * 3, number of examples)  \n",
    "*Y*: true \"label\" vector, of shape (6, number of examples)  \n",
    "*layers_dims*: list containing the input size and each layer size, of length (number of layers + 1)  \n",
    "*method*: optimization method, either gradient descent (gd) or adam  \n",
    "*lambd*: regularization parameter  \n",
    "*learning_rate*: learning rate of the gradient descent update rule  \n",
    "*num_iterations*: number of iterations of the optimization loop  \n",
    "*print_cost*: if True, it prints the cost every 100 steps\n",
    "\n",
    "**Outputs** :  \n",
    "*parameters*: parameters learnt by the model. They can then be used to predict  \n",
    "*mean*: mean of training set samples to be used in normalization of test set  \n",
    "*std*: std of training set samples to be used in normalization of test set"
   ]
  },
  {
   "cell_type": "code",
   "execution_count": 59,
   "metadata": {},
   "outputs": [],
   "source": [
    "def L_layer_model(X, Y, layers_dims, method = \"gd\", lambd = 0.1, learning_rate = 0.0075, mini_batch_size = 64, num_epochs = 3000, print_cost=False):\n",
    "\n",
    "    costs = []\n",
    "    \n",
    "    parameters = initialize_parameters(layers_dims)\n",
    "    \n",
    "    X, mean, std = normalize(X)\n",
    "    \n",
    "    seed = 0\n",
    "    \n",
    "    if method == \"gd\":\n",
    "        pass\n",
    "    elif method == \"adam\":\n",
    "        t = 0\n",
    "        v, s = initialize_adam(parameters)\n",
    "    \n",
    "    for i in range(num_epochs):\n",
    "        \n",
    "        seed = seed + 1\n",
    "        minibatches = random_mini_batches(X, Y, mini_batch_size, seed)\n",
    "        m = len(minibatches)\n",
    "        cost_total = 0\n",
    "        \n",
    "        for minibatch in minibatches:\n",
    "            \n",
    "            (minibatch_X, minibatch_Y) = minibatch\n",
    "            AL, caches = L_model_forward(minibatch_X, parameters)\n",
    "            cost_total += compute_cost(AL, minibatch_Y , layers_dims, parameters, lambd)\n",
    "            grads = L_model_backward(AL, minibatch_Y, caches, lambd)\n",
    "            if method == \"gd\":\n",
    "                parameters = update_parameters(parameters, grads, learning_rate)\n",
    "            elif method == \"adam\":\n",
    "                t = t + 1\n",
    "                parameters, v, s = update_parameters_with_adam(parameters, grads, v, s, t, learning_rate)\n",
    "        \n",
    "        cost_avg = cost_total / m\n",
    "\n",
    "        if print_cost and i % 10 == 0:\n",
    "            print (\"Cost after epoch %i: %f\" %(i, cost_avg))\n",
    "        if print_cost and i % 10 == 0:\n",
    "            costs.append(cost_avg)\n",
    "\n",
    "    plt.plot(np.squeeze(costs))\n",
    "    plt.ylabel('cost')\n",
    "    plt.xlabel('epochs (per 10)')\n",
    "    plt.title(\"Learning rate =\" + str(learning_rate))\n",
    "    plt.show()\n",
    "    \n",
    "    return parameters, mean, std"
   ]
  },
  {
   "cell_type": "markdown",
   "metadata": {},
   "source": [
    "## 3. Predicting and Evaluation"
   ]
  },
  {
   "cell_type": "markdown",
   "metadata": {},
   "source": [
    "### 3.1. Prediction function"
   ]
  },
  {
   "cell_type": "markdown",
   "metadata": {},
   "source": [
    "**Predicting the results of a L-layer neural network**\n",
    "\n",
    "**Inputs** :  \n",
    "*X*: data set of examples  \n",
    "*Y*: true labels of sample set  \n",
    "*parameters*: parameters of the trained model  \n",
    "*mean*: mean of training set samples    \n",
    "*std*: std of training set samples\n",
    "\n",
    "**Outputs** :  \n",
    "*pred*: predictions for the given dataset X"
   ]
  },
  {
   "cell_type": "code",
   "execution_count": 60,
   "metadata": {},
   "outputs": [],
   "source": [
    "def predict(X, Y, parameters, mean, std):\n",
    "    \n",
    "    X = (X-mean)/std\n",
    "    \n",
    "    m = Y.shape[1]\n",
    "    n = len(parameters) // 2\n",
    "\n",
    "    probas, caches = L_model_forward(X, parameters)\n",
    "\n",
    "    pred = (probas==np.max(probas,axis=0)).astype(int)\n",
    "\n",
    "    correct = np.sum(np.min((pred==Y).astype(int),axis=0))\n",
    "    accuracy = correct/m*100\n",
    "    \n",
    "    print(\"Accuracy: %.2f %%\" %(accuracy))\n",
    "    \n",
    "    return pred"
   ]
  },
  {
   "cell_type": "markdown",
   "metadata": {},
   "source": [
    "### 3.2. Training the model"
   ]
  },
  {
   "cell_type": "markdown",
   "metadata": {},
   "source": [
    "**Running gradient check**"
   ]
  },
  {
   "cell_type": "code",
   "execution_count": 62,
   "metadata": {},
   "outputs": [
    {
     "name": "stderr",
     "output_type": "stream",
     "text": [
      "<ipython-input-45-5da0794a1c2b>:3: RuntimeWarning: overflow encountered in exp\n",
      "  A = 1./(1.+np.exp(-Z))\n",
      "<ipython-input-46-1fc86cbefe79>:5: RuntimeWarning: overflow encountered in exp\n",
      "  s = 1./(1.+np.exp(-Z))\n"
     ]
    },
    {
     "name": "stdout",
     "output_type": "stream",
     "text": [
      "0\n",
      "1\n",
      "2\n",
      "3\n",
      "4\n",
      "5\n",
      "6\n",
      "7\n",
      "8\n",
      "9\n",
      "10\n",
      "11\n",
      "12\n",
      "13\n",
      "14\n",
      "15\n",
      "16\n",
      "17\n",
      "18\n",
      "19\n",
      "20\n",
      "21\n",
      "22\n",
      "23\n",
      "24\n",
      "25\n",
      "26\n",
      "27\n",
      "28\n",
      "29\n",
      "30\n",
      "31\n",
      "32\n",
      "33\n",
      "34\n",
      "35\n",
      "36\n",
      "37\n",
      "38\n",
      "39\n",
      "40\n",
      "41\n",
      "42\n",
      "43\n",
      "44\n",
      "45\n",
      "46\n",
      "47\n",
      "48\n",
      "49\n",
      "50\n",
      "51\n",
      "52\n",
      "53\n",
      "54\n",
      "55\n",
      "56\n",
      "57\n",
      "58\n",
      "59\n",
      "60\n",
      "61\n",
      "62\n",
      "63\n",
      "64\n",
      "65\n",
      "66\n",
      "67\n",
      "68\n",
      "69\n",
      "70\n",
      "71\n",
      "72\n",
      "73\n",
      "74\n",
      "75\n",
      "76\n",
      "77\n",
      "78\n",
      "79\n",
      "80\n",
      "81\n",
      "82\n",
      "83\n",
      "84\n",
      "85\n",
      "86\n",
      "87\n",
      "88\n",
      "89\n",
      "90\n",
      "91\n",
      "92\n",
      "93\n",
      "94\n",
      "95\n",
      "96\n",
      "97\n",
      "98\n",
      "99\n",
      "100\n",
      "101\n",
      "102\n",
      "103\n",
      "104\n",
      "105\n",
      "106\n",
      "107\n",
      "108\n",
      "109\n",
      "110\n",
      "111\n",
      "112\n",
      "113\n",
      "114\n",
      "115\n",
      "116\n",
      "117\n",
      "118\n",
      "119\n",
      "120\n",
      "121\n",
      "122\n",
      "123\n",
      "124\n",
      "125\n",
      "126\n",
      "127\n",
      "128\n",
      "129\n",
      "130\n",
      "131\n",
      "132\n",
      "133\n",
      "134\n",
      "144\n",
      "145\n",
      "146\n",
      "147\n",
      "149\n",
      "150\n",
      "151\n",
      "152\n",
      "153\n",
      "154\n",
      "155\n",
      "156\n",
      "158\n",
      "159\n",
      "160\n",
      "161\n",
      "162\n",
      "163\n",
      "164\n",
      "165\n",
      "166\n",
      "167\n",
      "168\n",
      "169\n",
      "170\n",
      "171\n",
      "172\n",
      "173\n",
      "174\n",
      "175\n",
      "176\n",
      "177\n",
      "178\n",
      "179\n",
      "180\n",
      "181\n",
      "182\n",
      "183\n",
      "184\n",
      "185\n",
      "186\n",
      "187\n",
      "188\n",
      "189\n",
      "190\n",
      "191\n",
      "192\n",
      "193\n",
      "194\n",
      "195\n",
      "196\n",
      "197\n",
      "198\n",
      "199\n",
      "200\n",
      "201\n",
      "202\n",
      "203\n",
      "204\n",
      "205\n",
      "206\n",
      "207\n",
      "208\n",
      "209\n",
      "210\n",
      "211\n",
      "212\n",
      "213\n",
      "214\n",
      "215\n",
      "225\n",
      "226\n",
      "228\n",
      "230\n",
      "231\n",
      "233\n",
      "235\n",
      "237\n",
      "240\n",
      "241\n",
      "242\n",
      "243\n",
      "244\n",
      "245\n",
      "246\n",
      "247\n",
      "248\n",
      "249\n",
      "250\n",
      "252\n",
      "254\n",
      "255\n",
      "269\n",
      "270\n",
      "271\n",
      "272\n",
      "274\n",
      "275\n",
      "276\n",
      "277\n",
      "279\n",
      "280\n",
      "281\n",
      "282\n",
      "285\n",
      "\u001b[93mThere is a mistake in the backward propagation! difference = 1.0\u001b[0m\n"
     ]
    },
    {
     "data": {
      "text/plain": [
       "1.0"
      ]
     },
     "execution_count": 62,
     "metadata": {},
     "output_type": "execute_result"
    }
   ],
   "source": [
    "np.random.seed(2)\n",
    "X = np.random.randn(15,300)\n",
    "Y = np.random.randn(3,300)\n",
    "layers_dims = [15, 9, 8, 5, 3]\n",
    "gradient_check(X, Y, layers_dims, lambd = 0.7, learning_rate = 0.007, num_iterations = 2000, epsilon = 1e-7)"
   ]
  },
  {
   "cell_type": "markdown",
   "metadata": {},
   "source": [
    "**Setting constants**"
   ]
  },
  {
   "cell_type": "code",
   "execution_count": 33,
   "metadata": {},
   "outputs": [],
   "source": [
    "layers_dims = [67500, 15, 12, 8, 6]"
   ]
  },
  {
   "cell_type": "markdown",
   "metadata": {},
   "source": [
    "**Training the model**"
   ]
  },
  {
   "cell_type": "code",
   "execution_count": 38,
   "metadata": {},
   "outputs": [
    {
     "name": "stderr",
     "output_type": "stream",
     "text": [
      "<ipython-input-16-5da0794a1c2b>:3: RuntimeWarning: overflow encountered in exp\n",
      "  A = 1./(1.+np.exp(-Z))\n",
      "<ipython-input-17-57730ab8d9ba>:5: RuntimeWarning: overflow encountered in exp\n",
      "  s = 1./(1.+np.exp(-Z))\n"
     ]
    },
    {
     "name": "stdout",
     "output_type": "stream",
     "text": [
      "Cost after epoch 0: 28.035635\n",
      "Cost after epoch 10: 2.649667\n",
      "Cost after epoch 20: 2.493126\n",
      "Cost after epoch 30: 2.425366\n",
      "Cost after epoch 40: 2.438480\n",
      "Cost after epoch 50: 2.496287\n",
      "Cost after epoch 60: 2.472784\n",
      "Cost after epoch 70: 2.504745\n",
      "Cost after epoch 80: 2.535628\n",
      "Cost after epoch 90: 2.451373\n"
     ]
    },
    {
     "data": {
      "image/png": "[encoded data removed]",
      "text/plain": [
       "<Figure size 432x288 with 1 Axes>"
      ]
     },
     "metadata": {
      "needs_background": "light"
     },
     "output_type": "display_data"
    }
   ],
   "source": [
    "parameters, mean, std = L_layer_model(X_train, Y_train, layers_dims, method = \"adam\", lambd = 0.7, \\\n",
    "                                      learning_rate = 0.0075, mini_batch_size = 64, num_epochs = 100, print_cost=True)"
   ]
  },
  {
   "cell_type": "markdown",
   "metadata": {},
   "source": [
    "### 3.3. Prediction and accuracy"
   ]
  },
  {
   "cell_type": "markdown",
   "metadata": {},
   "source": [
    "**Train set accuracy**"
   ]
  },
  {
   "cell_type": "code",
   "execution_count": 39,
   "metadata": {},
   "outputs": [
    {
     "name": "stdout",
     "output_type": "stream",
     "text": [
      "Accuracy: 49.38 %\n"
     ]
    }
   ],
   "source": [
    "pred_train = predict(X_train, Y_train, parameters, mean, std)"
   ]
  },
  {
   "cell_type": "markdown",
   "metadata": {},
   "source": [
    "**Test set accuracy**"
   ]
  },
  {
   "cell_type": "code",
   "execution_count": 40,
   "metadata": {},
   "outputs": [
    {
     "name": "stdout",
     "output_type": "stream",
     "text": [
      "Accuracy: 46.00 %\n"
     ]
    }
   ],
   "source": [
    "pred_test = predict(X_test, Y_test, parameters, mean, std)"
   ]
  }
 ],
 "metadata": {
  "kernelspec": {
   "display_name": "Python 3",
   "language": "python",
   "name": "python3"
  },
  "language_info": {
   "codemirror_mode": {
    "name": "ipython",
    "version": 3
   },
   "file_extension": ".py",
   "mimetype": "text/x-python",
   "name": "python",
   "nbconvert_exporter": "python",
   "pygments_lexer": "ipython3",
   "version": "3.8.3"
  }
 },
 "nbformat": 4,
 "nbformat_minor": 4
}
